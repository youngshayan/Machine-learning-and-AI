{
 "cells": [
  {
   "cell_type": "code",
   "metadata": {
    "ExecuteTime": {
     "end_time": "2024-10-26T14:25:40.728311Z",
     "start_time": "2024-10-26T14:25:40.723528Z"
    }
   },
   "source": [
    "import numpy as np  \n",
    "arr = np.array([[1,2,3],[3,6,8]])\n",
    "print(arr)\n",
    "print(type(arr))\n",
    "print(arr.ndim)"
   ],
   "outputs": [
    {
     "name": "stdout",
     "output_type": "stream",
     "text": [
      "[[1 2 3]\n",
      " [3 6 8]]\n",
      "<class 'numpy.ndarray'>\n",
      "2\n"
     ]
    }
   ],
   "execution_count": 1
  },
  {
   "metadata": {},
   "cell_type": "markdown",
   "source": "# find dimensions"
  },
  {
   "cell_type": "code",
   "metadata": {
    "ExecuteTime": {
     "end_time": "2024-10-26T14:25:40.766878Z",
     "start_time": "2024-10-26T14:25:40.763544Z"
    }
   },
   "source": [
    "a = np.array(42)\n",
    "b = np.array([1, 2, 3, 4, 5])\n",
    "c = np.array([[1, 2, 3], [4, 5, 6]])\n",
    "d = np.array([[[1, 2, 3], [4, 5, 6]], [[1, 2, 3], [4, 5, 6]]])\n",
    "\n",
    "print(\"a:\", a.ndim)\n",
    "print(\"b:\", b.ndim)\n",
    "print(\"c:\", c.ndim)\n",
    "print(\"d:\", d.ndim)\n"
   ],
   "outputs": [
    {
     "name": "stdout",
     "output_type": "stream",
     "text": [
      "a: 0\n",
      "b: 1\n",
      "c: 2\n",
      "d: 3\n"
     ]
    }
   ],
   "execution_count": 2
  },
  {
   "metadata": {},
   "cell_type": "markdown",
   "source": "**how to set dimension of ndarray**"
  },
  {
   "cell_type": "code",
   "metadata": {
    "ExecuteTime": {
     "end_time": "2024-10-26T14:25:41.051360Z",
     "start_time": "2024-10-26T14:25:41.046399Z"
    }
   },
   "source": [
    "arr = np.array([1, 2, 3, 4], ndmin=5)\n",
    "\n",
    "print(arr)\n",
    "print('number of dimensions :', arr.ndim)"
   ],
   "outputs": [
    {
     "name": "stdout",
     "output_type": "stream",
     "text": [
      "[[[[[1 2 3 4]]]]]\n",
      "number of dimensions : 5\n"
     ]
    }
   ],
   "execution_count": 3
  },
  {
   "metadata": {},
   "cell_type": "markdown",
   "source": "---"
  },
  {
   "cell_type": "markdown",
   "metadata": {},
   "source": [
    "# array are indexed"
   ]
  },
  {
   "cell_type": "code",
   "metadata": {
    "ExecuteTime": {
     "end_time": "2024-10-26T14:25:41.087767Z",
     "start_time": "2024-10-26T14:25:41.085190Z"
    }
   },
   "source": [
    "arr = np.array([1, 2, 3, 4])\n",
    "\n",
    "print(arr[0])"
   ],
   "outputs": [
    {
     "name": "stdout",
     "output_type": "stream",
     "text": [
      "1\n"
     ]
    }
   ],
   "execution_count": 4
  },
  {
   "cell_type": "code",
   "metadata": {
    "ExecuteTime": {
     "end_time": "2024-10-26T14:25:41.139780Z",
     "start_time": "2024-10-26T14:25:41.134196Z"
    }
   },
   "source": [
    "a = np.array([[1, 2],\n",
    "             [3, 4],\n",
    "             [5, 6]], dtype='float64')\n",
    "print(a)\n",
    "print('number of dimensions:', a.ndim)\n",
    "print('shape:', a.shape) \n",
    "print('size:', a.size) \n",
    "print('dtype:', a.dtype) "
   ],
   "outputs": [
    {
     "name": "stdout",
     "output_type": "stream",
     "text": [
      "[[1. 2.]\n",
      " [3. 4.]\n",
      " [5. 6.]]\n",
      "number of dimensions: 2\n",
      "shape: (3, 2)\n",
      "size: 6\n",
      "dtype: float64\n"
     ]
    }
   ],
   "execution_count": 5
  },
  {
   "cell_type": "code",
   "metadata": {
    "ExecuteTime": {
     "end_time": "2024-10-26T14:25:41.226863Z",
     "start_time": "2024-10-26T14:25:41.222647Z"
    }
   },
   "source": [
    "arr = np.array([1, 2, 3, 4, 5])\n",
    "x = arr.copy()\n",
    "arr[0] = 42\n",
    "\n",
    "print(arr)\n",
    "print(x)\n"
   ],
   "outputs": [
    {
     "name": "stdout",
     "output_type": "stream",
     "text": [
      "[42  2  3  4  5]\n",
      "[1 2 3 4 5]\n"
     ]
    }
   ],
   "execution_count": 6
  },
  {
   "cell_type": "code",
   "metadata": {
    "ExecuteTime": {
     "end_time": "2024-10-26T14:25:41.355275Z",
     "start_time": "2024-10-26T14:25:41.350846Z"
    }
   },
   "source": [
    "arr = np.array([1, 2, 3, 4, 5])\n",
    "x = arr.view()\n",
    "arr[0] = 42\n",
    "\n",
    "print(arr)\n",
    "print(x)"
   ],
   "outputs": [
    {
     "name": "stdout",
     "output_type": "stream",
     "text": [
      "[42  2  3  4  5]\n",
      "[42  2  3  4  5]\n"
     ]
    }
   ],
   "execution_count": 7
  },
  {
   "cell_type": "code",
   "metadata": {
    "ExecuteTime": {
     "end_time": "2024-10-26T14:25:41.418112Z",
     "start_time": "2024-10-26T14:25:41.414287Z"
    }
   },
   "source": [
    "arr = np.array([1, 2, 3, 4, 5])\n",
    "\n",
    "x = arr.copy()\n",
    "y = arr.view()\n",
    "\n",
    "print(x.base)\n",
    "print(y.base)"
   ],
   "outputs": [
    {
     "name": "stdout",
     "output_type": "stream",
     "text": [
      "None\n",
      "[1 2 3 4 5]\n"
     ]
    }
   ],
   "execution_count": 8
  },
  {
   "cell_type": "code",
   "metadata": {
    "ExecuteTime": {
     "end_time": "2024-10-26T14:25:41.460300Z",
     "start_time": "2024-10-26T14:25:41.457060Z"
    }
   },
   "source": [
    "arr = np.array([[[1, 2], [3, 4]], [[5, 6], [7, 8]]])\n",
    "\n",
    "for x in np.nditer(arr):\n",
    "  print(x)\n"
   ],
   "outputs": [
    {
     "name": "stdout",
     "output_type": "stream",
     "text": [
      "1\n",
      "2\n",
      "3\n",
      "4\n",
      "5\n",
      "6\n",
      "7\n",
      "8\n"
     ]
    }
   ],
   "execution_count": 9
  },
  {
   "cell_type": "code",
   "metadata": {
    "ExecuteTime": {
     "end_time": "2024-10-26T14:25:41.513387Z",
     "start_time": "2024-10-26T14:25:41.509760Z"
    }
   },
   "source": [
    "arr = np.array([[[1, 2], [3, 4]], [[5, 6], [7, 8]]])\n",
    "\n",
    "for x in arr:\n",
    "  print(x)"
   ],
   "outputs": [
    {
     "name": "stdout",
     "output_type": "stream",
     "text": [
      "[[1 2]\n",
      " [3 4]]\n",
      "[[5 6]\n",
      " [7 8]]\n"
     ]
    }
   ],
   "execution_count": 10
  },
  {
   "cell_type": "code",
   "metadata": {
    "ExecuteTime": {
     "end_time": "2024-10-26T14:25:41.554445Z",
     "start_time": "2024-10-26T14:25:41.551602Z"
    }
   },
   "source": [
    "arr = np.array([[1, 2, 3, 4], [5, 6, 7, 8]])\n",
    "\n",
    "for x in np.nditer(arr[:, ::2]):\n",
    "  print(x)"
   ],
   "outputs": [
    {
     "name": "stdout",
     "output_type": "stream",
     "text": [
      "1\n",
      "3\n",
      "5\n",
      "7\n"
     ]
    }
   ],
   "execution_count": 11
  },
  {
   "cell_type": "code",
   "metadata": {
    "ExecuteTime": {
     "end_time": "2024-10-26T14:25:41.620583Z",
     "start_time": "2024-10-26T14:25:41.617095Z"
    }
   },
   "source": [
    "a = np.arange(8).reshape(2, 4)\n",
    "print(a)\n",
    "\n",
    "print(\"transpose \\n\",a.T)"
   ],
   "outputs": [
    {
     "name": "stdout",
     "output_type": "stream",
     "text": [
      "[[0 1 2 3]\n",
      " [4 5 6 7]]\n",
      "transpose \n",
      " [[0 4]\n",
      " [1 5]\n",
      " [2 6]\n",
      " [3 7]]\n"
     ]
    }
   ],
   "execution_count": 12
  },
  {
   "cell_type": "markdown",
   "metadata": {},
   "source": [
    "**shows the index**"
   ]
  },
  {
   "cell_type": "code",
   "metadata": {
    "ExecuteTime": {
     "end_time": "2024-10-26T14:25:41.674849Z",
     "start_time": "2024-10-26T14:25:41.671328Z"
    }
   },
   "source": [
    "arr = np.array([1, 2, 3])\n",
    "\n",
    "for idx, x in np.ndenumerate(arr):\n",
    "  print(idx, x)"
   ],
   "outputs": [
    {
     "name": "stdout",
     "output_type": "stream",
     "text": [
      "(0,) 1\n",
      "(1,) 2\n",
      "(2,) 3\n"
     ]
    }
   ],
   "execution_count": 13
  },
  {
   "cell_type": "code",
   "metadata": {
    "ExecuteTime": {
     "end_time": "2024-10-26T14:25:41.726927Z",
     "start_time": "2024-10-26T14:25:41.723802Z"
    }
   },
   "source": [
    "arr1 = np.array([1, 2, 3])\n",
    "\n",
    "arr2 = np.array([4, 5, 6])\n",
    "\n",
    "\n",
    "\n",
    "arr = np.stack((arr1, arr2), axis=1)\n",
    "\n",
    "print(arr)"
   ],
   "outputs": [
    {
     "name": "stdout",
     "output_type": "stream",
     "text": [
      "[[1 4]\n",
      " [2 5]\n",
      " [3 6]]\n"
     ]
    }
   ],
   "execution_count": 14
  },
  {
   "cell_type": "code",
   "metadata": {
    "ExecuteTime": {
     "end_time": "2024-10-26T14:25:41.785370Z",
     "start_time": "2024-10-26T14:25:41.778580Z"
    }
   },
   "source": [
    "arr = np.array([[1, 2, 3],\n",
    "                [4, 5, 6],\n",
    "                [7, 8, 9]])\n",
    "np.sum(arr, axis=1)\n"
   ],
   "outputs": [
    {
     "data": {
      "text/plain": [
       "array([ 6, 15, 24])"
      ]
     },
     "execution_count": 15,
     "metadata": {},
     "output_type": "execute_result"
    }
   ],
   "execution_count": 15
  },
  {
   "cell_type": "code",
   "metadata": {
    "ExecuteTime": {
     "end_time": "2024-10-26T14:25:41.834493Z",
     "start_time": "2024-10-26T14:25:41.831361Z"
    }
   },
   "source": [
    "arr1 = np.array([[1, 2, 3]])\n",
    "\n",
    "arr2 = np.array([[4, 5, 6]])\n",
    "\n",
    "arr3 = np.array([[7, 8, 9]])\n",
    "\n",
    "arr = np.stack((arr1, arr2, arr3), axis=2)\n",
    "\n",
    "print(arr)"
   ],
   "outputs": [
    {
     "name": "stdout",
     "output_type": "stream",
     "text": [
      "[[[1 4 7]\n",
      "  [2 5 8]\n",
      "  [3 6 9]]]\n"
     ]
    }
   ],
   "execution_count": 16
  },
  {
   "cell_type": "code",
   "metadata": {
    "ExecuteTime": {
     "end_time": "2024-10-26T14:25:41.888377Z",
     "start_time": "2024-10-26T14:25:41.885291Z"
    }
   },
   "source": [
    "arr1 = np.array([1, 2, 3])\n",
    "\n",
    "arr2 = np.array([4, 5, 6])\n",
    "\n",
    "arr3 = np.array([7, 8, 9])\n",
    "\n",
    "arr = np.hstack((arr1, arr2, arr3))\n",
    "\n",
    "print(arr)"
   ],
   "outputs": [
    {
     "name": "stdout",
     "output_type": "stream",
     "text": [
      "[1 2 3 4 5 6 7 8 9]\n"
     ]
    }
   ],
   "execution_count": 17
  },
  {
   "cell_type": "code",
   "metadata": {
    "ExecuteTime": {
     "end_time": "2024-10-26T14:25:41.945684Z",
     "start_time": "2024-10-26T14:25:41.941167Z"
    }
   },
   "source": [
    "arr1 = np.array([1, 2, 3])\n",
    "\n",
    "arr2 = np.array([4, 5, 6])\n",
    "\n",
    "arr3 = np.array([7, 8, 9])\n",
    "\n",
    "arr = np.vstack((arr1, arr2, arr3))\n",
    "\n",
    "print(arr)"
   ],
   "outputs": [
    {
     "name": "stdout",
     "output_type": "stream",
     "text": [
      "[[1 2 3]\n",
      " [4 5 6]\n",
      " [7 8 9]]\n"
     ]
    }
   ],
   "execution_count": 18
  },
  {
   "cell_type": "code",
   "metadata": {
    "ExecuteTime": {
     "end_time": "2024-10-26T14:25:42.005219Z",
     "start_time": "2024-10-26T14:25:41.999462Z"
    }
   },
   "source": [
    "a = np.arange(12).reshape(2, 6)\n",
    "x, y, z = np.array_split(a, 3, axis=1)\n",
    "print(x)\n",
    "print(y)\n",
    "print(z)"
   ],
   "outputs": [
    {
     "name": "stdout",
     "output_type": "stream",
     "text": [
      "[[0 1]\n",
      " [6 7]]\n",
      "[[2 3]\n",
      " [8 9]]\n",
      "[[ 4  5]\n",
      " [10 11]]\n"
     ]
    }
   ],
   "execution_count": 19
  },
  {
   "cell_type": "code",
   "metadata": {
    "ExecuteTime": {
     "end_time": "2024-10-26T14:25:42.066757Z",
     "start_time": "2024-10-26T14:25:42.063497Z"
    }
   },
   "source": [
    "arr = np.array([1, 2, 3, 4, 5, 6])\n",
    "\n",
    "newarr = np.array_split(arr, 3)\n",
    "\n",
    "print(newarr[0])\n",
    "print(newarr[1])\n",
    "print(newarr[2])"
   ],
   "outputs": [
    {
     "name": "stdout",
     "output_type": "stream",
     "text": [
      "[1 2]\n",
      "[3 4]\n",
      "[5 6]\n"
     ]
    }
   ],
   "execution_count": 20
  },
  {
   "cell_type": "code",
   "metadata": {
    "ExecuteTime": {
     "end_time": "2024-10-26T14:25:42.121800Z",
     "start_time": "2024-10-26T14:25:42.119034Z"
    }
   },
   "source": [
    "arr = np.array([[1, 2], [3, 4], [5, 6], [7, 8], [9, 10], [11, 12]])\n",
    "\n",
    "newarr = np.array_split(arr, 3)\n",
    "\n",
    "print(newarr)"
   ],
   "outputs": [
    {
     "name": "stdout",
     "output_type": "stream",
     "text": [
      "[array([[1, 2],\n",
      "       [3, 4]]), array([[5, 6],\n",
      "       [7, 8]]), array([[ 9, 10],\n",
      "       [11, 12]])]\n"
     ]
    }
   ],
   "execution_count": 21
  },
  {
   "cell_type": "code",
   "metadata": {
    "ExecuteTime": {
     "end_time": "2024-10-26T14:25:42.174980Z",
     "start_time": "2024-10-26T14:25:42.171844Z"
    }
   },
   "source": [
    "arr = np.array([[1, 2, 3], [4, 5, 6], [7, 8, 9], [10, 11, 12], [13, 14, 15], [16, 17, 18]])\n",
    "\n",
    "newarr = np.array_split(arr, 3)\n",
    "\n",
    "print(newarr)\n"
   ],
   "outputs": [
    {
     "name": "stdout",
     "output_type": "stream",
     "text": [
      "[array([[1, 2, 3],\n",
      "       [4, 5, 6]]), array([[ 7,  8,  9],\n",
      "       [10, 11, 12]]), array([[13, 14, 15],\n",
      "       [16, 17, 18]])]\n"
     ]
    }
   ],
   "execution_count": 22
  },
  {
   "cell_type": "code",
   "metadata": {
    "ExecuteTime": {
     "end_time": "2024-10-26T14:25:42.234006Z",
     "start_time": "2024-10-26T14:25:42.231033Z"
    }
   },
   "source": [
    "arr = np.array([[1, 2, 3], [4, 5, 6], [7, 8, 9], [10, 11, 12], [13, 14, 15], [16, 17, 18]])\n",
    "\n",
    "newarr = np.array_split(arr, 3, axis=1)\n",
    "\n",
    "print(newarr)"
   ],
   "outputs": [
    {
     "name": "stdout",
     "output_type": "stream",
     "text": [
      "[array([[ 1],\n",
      "       [ 4],\n",
      "       [ 7],\n",
      "       [10],\n",
      "       [13],\n",
      "       [16]]), array([[ 2],\n",
      "       [ 5],\n",
      "       [ 8],\n",
      "       [11],\n",
      "       [14],\n",
      "       [17]]), array([[ 3],\n",
      "       [ 6],\n",
      "       [ 9],\n",
      "       [12],\n",
      "       [15],\n",
      "       [18]])]\n"
     ]
    }
   ],
   "execution_count": 23
  },
  {
   "cell_type": "code",
   "metadata": {
    "ExecuteTime": {
     "end_time": "2024-10-26T14:25:42.285512Z",
     "start_time": "2024-10-26T14:25:42.282344Z"
    }
   },
   "source": [
    "a = np.random.randint(0, 10, 4) # آرایه‌ای شامل 4 عضو تصادفی در بازه 0 تا 9 \n",
    "b = np.random.randint(0, 10, 4) # آرایه‌ای شامل 4 عضو تصادفی در بازه 0 تا 9 \n",
    "print('a =', a)\n",
    "print('b =', b)"
   ],
   "outputs": [
    {
     "name": "stdout",
     "output_type": "stream",
     "text": [
      "a = [9 6 3 8]\n",
      "b = [8 6 3 2]\n"
     ]
    }
   ],
   "execution_count": 24
  },
  {
   "cell_type": "code",
   "metadata": {
    "ExecuteTime": {
     "end_time": "2024-10-26T14:25:42.331381Z",
     "start_time": "2024-10-26T14:25:42.328325Z"
    }
   },
   "source": [
    "a = np.array([0, 1, 2, 3])\n",
    "b = np.array([-2, 10, 1, 5])\n",
    "print('a + b =', np.add(a, b)) \n",
    "print('a + b =', a + b) # است a + b معادل np.add(a, b)"
   ],
   "outputs": [
    {
     "name": "stdout",
     "output_type": "stream",
     "text": [
      "a + b = [-2 11  3  8]\n",
      "a + b = [-2 11  3  8]\n"
     ]
    }
   ],
   "execution_count": 25
  },
  {
   "cell_type": "code",
   "metadata": {
    "ExecuteTime": {
     "end_time": "2024-10-26T14:25:42.376244Z",
     "start_time": "2024-10-26T14:25:42.373356Z"
    }
   },
   "source": [
    "print('a - b =', np.subtract(a, b)) \n",
    "print('a - b =', a - b) # است a - b معادل np.subtract(a, b)"
   ],
   "outputs": [
    {
     "name": "stdout",
     "output_type": "stream",
     "text": [
      "a - b = [ 2 -9  1 -2]\n",
      "a - b = [ 2 -9  1 -2]\n"
     ]
    }
   ],
   "execution_count": 26
  },
  {
   "cell_type": "code",
   "metadata": {
    "ExecuteTime": {
     "end_time": "2024-10-26T14:25:42.451453Z",
     "start_time": "2024-10-26T14:25:42.446277Z"
    }
   },
   "source": [
    "print('a * b =', np.multiply(a, b)) \n",
    "print('a * b =', a * b) # است a * b معادل np.multiply(a, b)"
   ],
   "outputs": [
    {
     "name": "stdout",
     "output_type": "stream",
     "text": [
      "a * b = [ 0 10  2 15]\n",
      "a * b = [ 0 10  2 15]\n"
     ]
    }
   ],
   "execution_count": 27
  },
  {
   "cell_type": "code",
   "metadata": {
    "ExecuteTime": {
     "end_time": "2024-10-26T14:25:42.504552Z",
     "start_time": "2024-10-26T14:25:42.501020Z"
    }
   },
   "source": [
    "print('a / b = ',np.divide(a, b))\n",
    "print('a / b = ', a / b)"
   ],
   "outputs": [
    {
     "name": "stdout",
     "output_type": "stream",
     "text": [
      "a / b =  [-0.   0.1  2.   0.6]\n",
      "a / b =  [-0.   0.1  2.   0.6]\n"
     ]
    }
   ],
   "execution_count": 28
  },
  {
   "cell_type": "code",
   "metadata": {
    "ExecuteTime": {
     "end_time": "2024-10-26T14:25:42.549817Z",
     "start_time": "2024-10-26T14:25:42.545616Z"
    }
   },
   "source": [
    "a = np.random.randint(0, 20, 5)\n",
    "b = np.random.randint(-20, 0, 5)\n",
    "print(f'a : {a}')\n",
    "print(f'b : {b}')"
   ],
   "outputs": [
    {
     "name": "stdout",
     "output_type": "stream",
     "text": [
      "a : [15  3  8 19  2]\n",
      "b : [-14  -9 -15  -6  -9]\n"
     ]
    }
   ],
   "execution_count": 29
  },
  {
   "cell_type": "code",
   "metadata": {
    "ExecuteTime": {
     "end_time": "2024-10-26T14:25:42.596921Z",
     "start_time": "2024-10-26T14:25:42.593779Z"
    }
   },
   "source": [
    "print('absolute values of b =', np.abs(b)) \n",
    "\n",
    "print('square values of a =', np.square(a)) "
   ],
   "outputs": [
    {
     "name": "stdout",
     "output_type": "stream",
     "text": [
      "absolute values of b = [14  9 15  6  9]\n",
      "square values of a = [225   9  64 361   4]\n"
     ]
    }
   ],
   "execution_count": 30
  },
  {
   "cell_type": "code",
   "metadata": {
    "ExecuteTime": {
     "end_time": "2024-10-26T14:25:42.645145Z",
     "start_time": "2024-10-26T14:25:42.640538Z"
    }
   },
   "source": [
    "arr = np.random.randint(0, 2000, 10)\n",
    "print(arr)\n",
    "print('Max: ', np.max(arr))\n",
    "print('Min: ', np.min(arr))\n",
    "print('Sum: ', np.sum(arr))"
   ],
   "outputs": [
    {
     "name": "stdout",
     "output_type": "stream",
     "text": [
      "[ 140  134 1402 1672   54  848 1921  734  994 1815]\n",
      "Max:  1921\n",
      "Min:  54\n",
      "Sum:  9714\n"
     ]
    }
   ],
   "execution_count": 31
  },
  {
   "cell_type": "code",
   "metadata": {
    "ExecuteTime": {
     "end_time": "2024-10-26T14:25:51.166315Z",
     "start_time": "2024-10-26T14:25:42.692524Z"
    }
   },
   "source": [
    "big_array = np.random.rand(1000*1000)\n",
    "%timeit sum(big_array)\n",
    "%timeit np.sum(big_array)"
   ],
   "outputs": [
    {
     "name": "stdout",
     "output_type": "stream",
     "text": [
      "59.2 ms ± 11.4 ms per loop (mean ± std. dev. of 7 runs, 10 loops each)\n",
      "425 μs ± 80.1 μs per loop (mean ± std. dev. of 7 runs, 1,000 loops each)\n"
     ]
    }
   ],
   "execution_count": 32
  },
  {
   "cell_type": "code",
   "metadata": {
    "ExecuteTime": {
     "end_time": "2024-10-26T14:25:51.183755Z",
     "start_time": "2024-10-26T14:25:51.179317Z"
    }
   },
   "source": [
    "a = np.random.randint(0, 10, (3, 4))\n",
    "print(a)\n",
    "\n"
   ],
   "outputs": [
    {
     "name": "stdout",
     "output_type": "stream",
     "text": [
      "[[6 7 6 0]\n",
      " [0 5 2 6]\n",
      " [9 5 6 2]]\n"
     ]
    }
   ],
   "execution_count": 33
  },
  {
   "cell_type": "code",
   "metadata": {
    "ExecuteTime": {
     "end_time": "2024-10-26T14:25:51.221147Z",
     "start_time": "2024-10-26T14:25:51.217776Z"
    }
   },
   "source": [
    "a.max(axis=1)"
   ],
   "outputs": [
    {
     "data": {
      "text/plain": [
       "array([7, 6, 9], dtype=int32)"
      ]
     },
     "execution_count": 34,
     "metadata": {},
     "output_type": "execute_result"
    }
   ],
   "execution_count": 34
  },
  {
   "cell_type": "code",
   "metadata": {
    "ExecuteTime": {
     "end_time": "2024-10-26T14:25:51.274997Z",
     "start_time": "2024-10-26T14:25:51.271898Z"
    }
   },
   "source": [
    "a.max(axis=0)"
   ],
   "outputs": [
    {
     "data": {
      "text/plain": [
       "array([9, 7, 6, 6], dtype=int32)"
      ]
     },
     "execution_count": 35,
     "metadata": {},
     "output_type": "execute_result"
    }
   ],
   "execution_count": 35
  },
  {
   "cell_type": "code",
   "metadata": {
    "ExecuteTime": {
     "end_time": "2024-10-26T14:25:51.353476Z",
     "start_time": "2024-10-26T14:25:51.349337Z"
    }
   },
   "source": [
    "heights = np.array([[194, 185, 183, 184, 178, 178, 190, 187, 187, 179, 186], \n",
    "                    [192, 173, 194, 184, 170, 189, 170, 170, 176, 173, 185]])\n",
    "print('Iran vs Spain')\n",
    "print('Mean height:', heights.mean(axis=1))\n",
    "print('Standard deviation:', heights.std(axis=1))"
   ],
   "outputs": [
    {
     "name": "stdout",
     "output_type": "stream",
     "text": [
      "Iran vs Spain\n",
      "Mean height: [184.63636364 179.63636364]\n",
      "Standard deviation: [4.79152144 8.91650897]\n"
     ]
    }
   ],
   "execution_count": 36
  },
  {
   "cell_type": "code",
   "metadata": {
    "ExecuteTime": {
     "end_time": "2024-10-26T14:25:51.395443Z",
     "start_time": "2024-10-26T14:25:51.386931Z"
    }
   },
   "source": [
    "print('Min:', np.min(heights, axis=1)) \n",
    "print('25th percentile:', np.percentile(heights, 25, axis=1)) \n",
    "print('Median:', np.median(heights, axis=1))\n",
    "print('75th percentile:', np.percentile(heights, 75, axis=1))\n",
    "print('Max:', np.max(heights, axis=1))"
   ],
   "outputs": [
    {
     "name": "stdout",
     "output_type": "stream",
     "text": [
      "Min: [178 170]\n",
      "25th percentile: [181.  171.5]\n",
      "Median: [185. 176.]\n",
      "75th percentile: [187. 187.]\n",
      "Max: [194 194]\n"
     ]
    }
   ],
   "execution_count": 37
  },
  {
   "cell_type": "code",
   "metadata": {
    "ExecuteTime": {
     "end_time": "2024-10-26T14:25:51.443761Z",
     "start_time": "2024-10-26T14:25:51.440088Z"
    }
   },
   "source": [
    "arr = np.array([1, 2, 3, 4, 5, 4, 4])\n",
    "\n",
    "x = np.where(arr == 4)\n",
    "\n",
    "print(x)"
   ],
   "outputs": [
    {
     "name": "stdout",
     "output_type": "stream",
     "text": [
      "(array([3, 5, 6]),)\n"
     ]
    }
   ],
   "execution_count": 38
  },
  {
   "cell_type": "code",
   "metadata": {
    "ExecuteTime": {
     "end_time": "2024-10-26T14:25:51.488212Z",
     "start_time": "2024-10-26T14:25:51.485538Z"
    }
   },
   "source": [
    "arr = np.array([3, 2, 0, 1])\n",
    "\n",
    "print(np.sort(arr))"
   ],
   "outputs": [
    {
     "name": "stdout",
     "output_type": "stream",
     "text": [
      "[0 1 2 3]\n"
     ]
    }
   ],
   "execution_count": 39
  },
  {
   "cell_type": "code",
   "metadata": {
    "ExecuteTime": {
     "end_time": "2024-10-26T14:25:51.551361Z",
     "start_time": "2024-10-26T14:25:51.548452Z"
    }
   },
   "source": [
    "arr = np.array(['banana', 'cherry', 'apple'])\n",
    "\n",
    "print(np.sort(arr))"
   ],
   "outputs": [
    {
     "name": "stdout",
     "output_type": "stream",
     "text": [
      "['apple' 'banana' 'cherry']\n"
     ]
    }
   ],
   "execution_count": 40
  },
  {
   "cell_type": "markdown",
   "metadata": {},
   "source": [
    "#index of a max num or min num"
   ]
  },
  {
   "cell_type": "code",
   "metadata": {
    "ExecuteTime": {
     "end_time": "2024-10-26T14:25:51.598608Z",
     "start_time": "2024-10-26T14:25:51.594314Z"
    }
   },
   "source": [
    "a = np.random.randint(0, 10, (3, 4))\n",
    "print(a)\n",
    "print(\"\\nIndex of Max element : \", np.argmax(a, axis=0)) \n",
    "print(\"\\nIndex of Max element : \", np.argmax(a, axis=1)) "
   ],
   "outputs": [
    {
     "name": "stdout",
     "output_type": "stream",
     "text": [
      "[[8 5 8 0]\n",
      " [3 2 9 2]\n",
      " [0 6 8 2]]\n",
      "\n",
      "Index of Max element :  [0 2 1 1]\n",
      "\n",
      "Index of Max element :  [0 2 2]\n"
     ]
    }
   ],
   "execution_count": 41
  },
  {
   "cell_type": "code",
   "metadata": {
    "ExecuteTime": {
     "end_time": "2024-10-26T14:25:51.658617Z",
     "start_time": "2024-10-26T14:25:51.655256Z"
    }
   },
   "source": [
    "a = np.array([0, 1, 2, 3])\n",
    "b = np.array([2, 2, 2, 2])\n",
    "a * b"
   ],
   "outputs": [
    {
     "data": {
      "text/plain": [
       "array([0, 2, 4, 6])"
      ]
     },
     "execution_count": 42,
     "metadata": {},
     "output_type": "execute_result"
    }
   ],
   "execution_count": 42
  },
  {
   "cell_type": "code",
   "metadata": {
    "ExecuteTime": {
     "end_time": "2024-10-26T14:25:51.706972Z",
     "start_time": "2024-10-26T14:25:51.703354Z"
    }
   },
   "source": [
    "arr = np.random.randint(5, 25,(4, 7))\n",
    "print(arr)"
   ],
   "outputs": [
    {
     "name": "stdout",
     "output_type": "stream",
     "text": [
      "[[ 6 12 11 19  8 12 24]\n",
      " [19 19 11 18  5  6  5]\n",
      " [ 7 21 23 13 13 24  8]\n",
      " [13 18 13  6 21 17 18]]\n"
     ]
    }
   ],
   "execution_count": 43
  },
  {
   "cell_type": "code",
   "metadata": {
    "ExecuteTime": {
     "end_time": "2024-10-26T14:25:51.758482Z",
     "start_time": "2024-10-26T14:25:51.754220Z"
    }
   },
   "source": [
    "arr > 20"
   ],
   "outputs": [
    {
     "data": {
      "text/plain": [
       "array([[False, False, False, False, False, False,  True],\n",
       "       [False, False, False, False, False, False, False],\n",
       "       [False,  True,  True, False, False,  True, False],\n",
       "       [False, False, False, False,  True, False, False]])"
      ]
     },
     "execution_count": 44,
     "metadata": {},
     "output_type": "execute_result"
    }
   ],
   "execution_count": 44
  },
  {
   "cell_type": "code",
   "metadata": {
    "ExecuteTime": {
     "end_time": "2024-10-26T14:25:51.836679Z",
     "start_time": "2024-10-26T14:25:51.833487Z"
    }
   },
   "source": [
    "np.max(arr, axis=0)"
   ],
   "outputs": [
    {
     "data": {
      "text/plain": [
       "array([19, 21, 23, 19, 21, 24, 24], dtype=int32)"
      ]
     },
     "execution_count": 45,
     "metadata": {},
     "output_type": "execute_result"
    }
   ],
   "execution_count": 45
  },
  {
   "cell_type": "code",
   "metadata": {
    "ExecuteTime": {
     "end_time": "2024-10-26T14:25:51.950899Z",
     "start_time": "2024-10-26T14:25:51.947423Z"
    }
   },
   "source": [
    "np.sum(arr ,axis=0)"
   ],
   "outputs": [
    {
     "data": {
      "text/plain": [
       "array([45, 70, 58, 56, 47, 59, 55])"
      ]
     },
     "execution_count": 46,
     "metadata": {},
     "output_type": "execute_result"
    }
   ],
   "execution_count": 46
  },
  {
   "cell_type": "code",
   "metadata": {
    "ExecuteTime": {
     "end_time": "2024-10-26T14:25:52.038202Z",
     "start_time": "2024-10-26T14:25:52.035130Z"
    }
   },
   "source": [
    "np.any(arr < 5)"
   ],
   "outputs": [
    {
     "data": {
      "text/plain": [
       "np.False_"
      ]
     },
     "execution_count": 47,
     "metadata": {},
     "output_type": "execute_result"
    }
   ],
   "execution_count": 47
  },
  {
   "cell_type": "code",
   "metadata": {
    "ExecuteTime": {
     "end_time": "2024-10-26T14:25:52.092247Z",
     "start_time": "2024-10-26T14:25:52.089203Z"
    }
   },
   "source": [
    "np.sum((arr > 10) & (arr < 20))"
   ],
   "outputs": [
    {
     "data": {
      "text/plain": [
       "np.int64(15)"
      ]
     },
     "execution_count": 48,
     "metadata": {},
     "output_type": "execute_result"
    }
   ],
   "execution_count": 48
  },
  {
   "cell_type": "code",
   "metadata": {
    "ExecuteTime": {
     "end_time": "2024-10-26T14:25:52.123420Z",
     "start_time": "2024-10-26T14:25:52.121129Z"
    }
   },
   "source": [
    "print(arr[arr > 15].mean())"
   ],
   "outputs": [
    {
     "name": "stdout",
     "output_type": "stream",
     "text": [
      "20.083333333333332\n"
     ]
    }
   ],
   "execution_count": 49
  },
  {
   "cell_type": "code",
   "metadata": {
    "ExecuteTime": {
     "end_time": "2024-11-02T14:46:03.612991Z",
     "start_time": "2024-11-02T14:46:03.604295Z"
    }
   },
   "source": [
    "import numpy as np\n",
    "arr = np.random.randint(0, 24, (4, 2,3))\n",
    "print(arr)\n",
    "np.sum(arr, axis=0)"
   ],
   "outputs": [
    {
     "name": "stdout",
     "output_type": "stream",
     "text": [
      "[[[14 22  2]\n",
      "  [ 6  1 12]]\n",
      "\n",
      " [[12 21 16]\n",
      "  [ 3  2  9]]\n",
      "\n",
      " [[ 8 12  1]\n",
      "  [18  2  4]]\n",
      "\n",
      " [[10 17  1]\n",
      "  [14 15 22]]]\n"
     ]
    },
    {
     "data": {
      "text/plain": [
       "array([[44, 72, 20],\n",
       "       [41, 20, 47]])"
      ]
     },
     "execution_count": 2,
     "metadata": {},
     "output_type": "execute_result"
    }
   ],
   "execution_count": 2
  },
  {
   "cell_type": "code",
   "metadata": {
    "ExecuteTime": {
     "end_time": "2024-10-26T14:25:52.243193Z",
     "start_time": "2024-10-26T14:25:52.238876Z"
    }
   },
   "source": [
    "np.min(arr, axis=0)"
   ],
   "outputs": [
    {
     "data": {
      "text/plain": [
       "array([15, 10,  4,  0,  2,  3], dtype=int32)"
      ]
     },
     "execution_count": 51,
     "metadata": {},
     "output_type": "execute_result"
    }
   ],
   "execution_count": 51
  },
  {
   "cell_type": "code",
   "metadata": {
    "ExecuteTime": {
     "end_time": "2024-10-26T14:25:52.277887Z",
     "start_time": "2024-10-26T14:25:52.274109Z"
    }
   },
   "source": [
    "np.max(arr, axis=0)"
   ],
   "outputs": [
    {
     "data": {
      "text/plain": [
       "array([23, 21, 19, 19, 11, 17], dtype=int32)"
      ]
     },
     "execution_count": 52,
     "metadata": {},
     "output_type": "execute_result"
    }
   ],
   "execution_count": 52
  },
  {
   "cell_type": "code",
   "metadata": {
    "ExecuteTime": {
     "end_time": "2024-10-26T14:25:52.378552Z",
     "start_time": "2024-10-26T14:25:52.375632Z"
    }
   },
   "source": [
    "print(arr > 10)"
   ],
   "outputs": [
    {
     "name": "stdout",
     "output_type": "stream",
     "text": [
      "[[ True  True  True  True False False]\n",
      " [ True False False False False False]\n",
      " [ True  True  True False  True  True]\n",
      " [ True  True False  True False  True]]\n"
     ]
    }
   ],
   "execution_count": 53
  },
  {
   "cell_type": "code",
   "metadata": {
    "ExecuteTime": {
     "end_time": "2024-10-26T14:26:09.003219Z",
     "start_time": "2024-10-26T14:26:09.000701Z"
    }
   },
   "source": [
    "a = np.array([[2, 3, 4],[6, 0 , 0], [0, 0, 1]])\n",
    "print(a)"
   ],
   "outputs": [
    {
     "name": "stdout",
     "output_type": "stream",
     "text": [
      "[[2 3 4]\n",
      " [6 0 0]\n",
      " [0 0 1]]\n"
     ]
    }
   ],
   "execution_count": 66
  },
  {
   "cell_type": "code",
   "metadata": {
    "ExecuteTime": {
     "end_time": "2024-10-26T14:28:32.023721Z",
     "start_time": "2024-10-26T14:28:32.021206Z"
    }
   },
   "source": [
    "a.reshape(3,-1,3)\n",
    "print(a)"
   ],
   "outputs": [
    {
     "name": "stdout",
     "output_type": "stream",
     "text": [
      "[[2 3 4]\n",
      " [6 0 0]\n",
      " [0 0 1]]\n"
     ]
    }
   ],
   "execution_count": 85
  },
  {
   "cell_type": "code",
   "metadata": {
    "ExecuteTime": {
     "end_time": "2024-10-26T14:26:57.282252Z",
     "start_time": "2024-10-26T14:26:57.278215Z"
    }
   },
   "source": [
    "np.nonzero(a)"
   ],
   "outputs": [
    {
     "data": {
      "text/plain": [
       "(array([0, 0, 0, 1, 2]), array([0, 1, 2, 0, 2]))"
      ]
     },
     "execution_count": 73,
     "metadata": {},
     "output_type": "execute_result"
    }
   ],
   "execution_count": 73
  },
  {
   "cell_type": "code",
   "metadata": {
    "ExecuteTime": {
     "end_time": "2024-10-26T14:25:52.847991Z",
     "start_time": "2024-10-26T14:25:52.844771Z"
    }
   },
   "source": [
    "arr = np.random.randint(0, 100, (2,5,4))\n",
    "print(arr)\n",
    "for x in arr.flat:\n",
    "    print(x)"
   ],
   "outputs": [
    {
     "name": "stdout",
     "output_type": "stream",
     "text": [
      "[[[ 8 33 22 92]\n",
      "  [41 27 87 24]\n",
      "  [94 47 21 46]\n",
      "  [19 21 74 73]\n",
      "  [14 45 70  2]]\n",
      "\n",
      " [[52  6 35 18]\n",
      "  [46 40 47 10]\n",
      "  [21 70 66 77]\n",
      "  [64 23 52 92]\n",
      "  [ 6  2 49 63]]]\n",
      "8\n",
      "33\n",
      "22\n",
      "92\n",
      "41\n",
      "27\n",
      "87\n",
      "24\n",
      "94\n",
      "47\n",
      "21\n",
      "46\n",
      "19\n",
      "21\n",
      "74\n",
      "73\n",
      "14\n",
      "45\n",
      "70\n",
      "2\n",
      "52\n",
      "6\n",
      "35\n",
      "18\n",
      "46\n",
      "40\n",
      "47\n",
      "10\n",
      "21\n",
      "70\n",
      "66\n",
      "77\n",
      "64\n",
      "23\n",
      "52\n",
      "92\n",
      "6\n",
      "2\n",
      "49\n",
      "63\n"
     ]
    }
   ],
   "execution_count": 57
  },
  {
   "cell_type": "code",
   "metadata": {
    "ExecuteTime": {
     "end_time": "2024-10-26T14:25:52.968389Z",
     "start_time": "2024-10-26T14:25:52.965181Z"
    }
   },
   "source": [
    "a = np.arange(12)**2  # the first 12 square numbers\n",
    "i = np.array([1, 1, 3, 8, 5])  # an array of indices\n",
    "print(\"a[i]:\\n \", a[i])  # the elements of `a` at the positions `i`\n",
    "j = np.array([[3, 4], [9, 7]])  # a bidimensional array of indices\n",
    "print(\"a[j]: \\n\", a[j])  # the same shape as `j`"
   ],
   "outputs": [
    {
     "name": "stdout",
     "output_type": "stream",
     "text": [
      "a[i]:\n",
      "  [ 1  1  9 64 25]\n",
      "a[j]: \n",
      " [[ 9 16]\n",
      " [81 49]]\n"
     ]
    }
   ],
   "execution_count": 58
  },
  {
   "cell_type": "code",
   "metadata": {
    "ExecuteTime": {
     "end_time": "2024-10-26T14:25:53.049729Z",
     "start_time": "2024-10-26T14:25:53.041344Z"
    }
   },
   "source": [
    "time = np.linspace(20, 145, 5)  # time scale\n",
    "data = np.sin(np.arange(20)).reshape(5, 4)  # 4 time-dependent series\n",
    "print(time)\n",
    "print(data)\n",
    "# index of the maxima for each series\n",
    "ind = data.argmax(axis=0)\n",
    "print(ind)\n",
    "# times corresponding to the maxima\n",
    "time_max = time[ind]\n",
    "data_max = data[ind, range(data.shape[1])]  # => data[ind[0], 0], data[ind[1], 1]...\n",
    "print(time_max)\n",
    "print(data_max)\n",
    "np.all(data_max == data.max(axis=0))"
   ],
   "outputs": [
    {
     "name": "stdout",
     "output_type": "stream",
     "text": [
      "[ 20.    51.25  82.5  113.75 145.  ]\n",
      "[[ 0.          0.84147098  0.90929743  0.14112001]\n",
      " [-0.7568025  -0.95892427 -0.2794155   0.6569866 ]\n",
      " [ 0.98935825  0.41211849 -0.54402111 -0.99999021]\n",
      " [-0.53657292  0.42016704  0.99060736  0.65028784]\n",
      " [-0.28790332 -0.96139749 -0.75098725  0.14987721]]\n",
      "[2 0 3 1]\n",
      "[ 82.5   20.   113.75  51.25]\n",
      "[0.98935825 0.84147098 0.99060736 0.6569866 ]\n"
     ]
    },
    {
     "data": {
      "text/plain": [
       "np.True_"
      ]
     },
     "execution_count": 59,
     "metadata": {},
     "output_type": "execute_result"
    }
   ],
   "execution_count": 59
  },
  {
   "metadata": {
    "ExecuteTime": {
     "end_time": "2024-10-26T14:25:53.085851Z",
     "start_time": "2024-10-26T14:25:53.082956Z"
    }
   },
   "cell_type": "code",
   "source": [
    "arr = np.random.randint(0, 10, (4, 5))\n",
    "print(arr)\n"
   ],
   "outputs": [
    {
     "name": "stdout",
     "output_type": "stream",
     "text": [
      "[[9 1 1 9 7]\n",
      " [4 0 7 6 6]\n",
      " [3 0 8 3 6]\n",
      " [9 8 2 0 4]]\n"
     ]
    }
   ],
   "execution_count": 60
  },
  {
   "metadata": {},
   "cell_type": "markdown",
   "source": [
    "\n",
    "# Starting new tests\n"
   ]
  },
  {
   "metadata": {
    "ExecuteTime": {
     "end_time": "2024-11-30T15:10:50.838869Z",
     "start_time": "2024-11-30T15:10:50.830947Z"
    }
   },
   "cell_type": "code",
   "source": [
    "import numpy as np\n",
    "arr = np.random.randint(0, 10, (4, 5))\n",
    "print(arr)"
   ],
   "outputs": [
    {
     "name": "stdout",
     "output_type": "stream",
     "text": [
      "[[8 0 9 8 6]\n",
      " [5 2 3 5 4]\n",
      " [4 6 6 2 5]\n",
      " [1 1 7 9 5]]\n"
     ]
    }
   ],
   "execution_count": 4
  },
  {
   "metadata": {
    "ExecuteTime": {
     "end_time": "2024-11-30T15:11:53.162143Z",
     "start_time": "2024-11-30T15:11:53.159034Z"
    }
   },
   "cell_type": "code",
   "source": [
    "arr2 = np.random.randint(0, 10, (4, 5))\n",
    "print(arr2)"
   ],
   "outputs": [
    {
     "name": "stdout",
     "output_type": "stream",
     "text": [
      "[[0 5 1 8 2]\n",
      " [4 4 5 2 6]\n",
      " [0 6 4 1 7]\n",
      " [3 7 5 1 7]]\n"
     ]
    }
   ],
   "execution_count": 6
  },
  {
   "metadata": {
    "ExecuteTime": {
     "end_time": "2024-11-30T15:19:38.409011Z",
     "start_time": "2024-11-30T15:19:35.384280Z"
    }
   },
   "cell_type": "code",
   "source": [
    "print(arr * arr2)\n",
    "%timeit arr* arr2"
   ],
   "outputs": [
    {
     "name": "stdout",
     "output_type": "stream",
     "text": [
      "[[ 0  0  9 64 12]\n",
      " [20  8 15 10 24]\n",
      " [ 0 36 24  2 35]\n",
      " [ 3  7 35  9 35]]\n",
      "364 ns ± 48.5 ns per loop (mean ± std. dev. of 7 runs, 1,000,000 loops each)\n"
     ]
    }
   ],
   "execution_count": 13
  },
  {
   "metadata": {
    "ExecuteTime": {
     "end_time": "2024-11-30T15:18:20.249276Z",
     "start_time": "2024-11-30T15:18:16.790351Z"
    }
   },
   "cell_type": "code",
   "source": [
    "mul = np.multiply(arr, arr2)\n",
    "print(mul)\n",
    "%timeit np.multiply(arr, arr2)"
   ],
   "outputs": [
    {
     "name": "stdout",
     "output_type": "stream",
     "text": [
      "[[ 0  0  9 64 12]\n",
      " [20  8 15 10 24]\n",
      " [ 0 36 24  2 35]\n",
      " [ 3  7 35  9 35]]\n",
      "432 ns ± 151 ns per loop (mean ± std. dev. of 7 runs, 1,000,000 loops each)\n"
     ]
    }
   ],
   "execution_count": 12
  }
 ],
 "metadata": {
  "kernelspec": {
   "display_name": "Python 3",
   "language": "python",
   "name": "python3"
  },
  "language_info": {
   "codemirror_mode": {
    "name": "ipython",
    "version": 3
   },
   "file_extension": ".py",
   "mimetype": "text/x-python",
   "name": "python",
   "nbconvert_exporter": "python",
   "pygments_lexer": "ipython3",
   "version": "3.13.0"
  }
 },
 "nbformat": 4,
 "nbformat_minor": 2
}
