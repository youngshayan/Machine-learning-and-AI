{
 "cells": [
  {
   "metadata": {},
   "cell_type": "markdown",
   "source": "# **test and learn how to work with pandas and numpy and other ML libraries together**",
   "id": "86123c73b60104ac"
  },
  {
   "metadata": {},
   "cell_type": "markdown",
   "source": "----",
   "id": "b3647606e544d2e6"
  },
  {
   "metadata": {},
   "cell_type": "markdown",
   "source": "**find duplicates and delete them**",
   "id": "e431933214bd6ddd"
  },
  {
   "cell_type": "code",
   "id": "initial_id",
   "metadata": {
    "collapsed": true,
    "ExecuteTime": {
     "end_time": "2024-12-07T15:40:57.075996Z",
     "start_time": "2024-12-07T15:40:57.013947Z"
    }
   },
   "source": [
    "import numpy\n",
    "import pandas as pd\n",
    "import numpy as np\n",
    "\n",
    "test ={\n",
    "    'k1': ['one', 'two'] * 3 + ['two'],\n",
    "    'k2': [1, 1, 2, 3, 3, 4, 4]\n",
    "}\n",
    "df = pd.DataFrame(test)\n",
    "df"
   ],
   "outputs": [
    {
     "data": {
      "text/plain": [
       "    k1  k2\n",
       "0  one   1\n",
       "1  two   1\n",
       "2  one   2\n",
       "3  two   3\n",
       "4  one   3\n",
       "5  two   4\n",
       "6  two   4"
      ],
      "text/html": [
       "<div>\n",
       "<style scoped>\n",
       "    .dataframe tbody tr th:only-of-type {\n",
       "        vertical-align: middle;\n",
       "    }\n",
       "\n",
       "    .dataframe tbody tr th {\n",
       "        vertical-align: top;\n",
       "    }\n",
       "\n",
       "    .dataframe thead th {\n",
       "        text-align: right;\n",
       "    }\n",
       "</style>\n",
       "<table border=\"1\" class=\"dataframe\">\n",
       "  <thead>\n",
       "    <tr style=\"text-align: right;\">\n",
       "      <th></th>\n",
       "      <th>k1</th>\n",
       "      <th>k2</th>\n",
       "    </tr>\n",
       "  </thead>\n",
       "  <tbody>\n",
       "    <tr>\n",
       "      <th>0</th>\n",
       "      <td>one</td>\n",
       "      <td>1</td>\n",
       "    </tr>\n",
       "    <tr>\n",
       "      <th>1</th>\n",
       "      <td>two</td>\n",
       "      <td>1</td>\n",
       "    </tr>\n",
       "    <tr>\n",
       "      <th>2</th>\n",
       "      <td>one</td>\n",
       "      <td>2</td>\n",
       "    </tr>\n",
       "    <tr>\n",
       "      <th>3</th>\n",
       "      <td>two</td>\n",
       "      <td>3</td>\n",
       "    </tr>\n",
       "    <tr>\n",
       "      <th>4</th>\n",
       "      <td>one</td>\n",
       "      <td>3</td>\n",
       "    </tr>\n",
       "    <tr>\n",
       "      <th>5</th>\n",
       "      <td>two</td>\n",
       "      <td>4</td>\n",
       "    </tr>\n",
       "    <tr>\n",
       "      <th>6</th>\n",
       "      <td>two</td>\n",
       "      <td>4</td>\n",
       "    </tr>\n",
       "  </tbody>\n",
       "</table>\n",
       "</div>"
      ]
     },
     "execution_count": 1,
     "metadata": {},
     "output_type": "execute_result"
    }
   ],
   "execution_count": 1
  },
  {
   "metadata": {
    "ExecuteTime": {
     "end_time": "2024-12-07T15:40:57.234372Z",
     "start_time": "2024-12-07T15:40:57.182059Z"
    }
   },
   "cell_type": "code",
   "source": "df.duplicated()",
   "id": "a1b667921c68bd5e",
   "outputs": [
    {
     "data": {
      "text/plain": [
       "0    False\n",
       "1    False\n",
       "2    False\n",
       "3    False\n",
       "4    False\n",
       "5    False\n",
       "6     True\n",
       "dtype: bool"
      ]
     },
     "execution_count": 2,
     "metadata": {},
     "output_type": "execute_result"
    }
   ],
   "execution_count": 2
  },
  {
   "metadata": {
    "ExecuteTime": {
     "end_time": "2024-12-07T15:40:57.399921Z",
     "start_time": "2024-12-07T15:40:57.391755Z"
    }
   },
   "cell_type": "code",
   "source": "df.drop_duplicates()",
   "id": "61a05390983466fb",
   "outputs": [
    {
     "data": {
      "text/plain": [
       "    k1  k2\n",
       "0  one   1\n",
       "1  two   1\n",
       "2  one   2\n",
       "3  two   3\n",
       "4  one   3\n",
       "5  two   4"
      ],
      "text/html": [
       "<div>\n",
       "<style scoped>\n",
       "    .dataframe tbody tr th:only-of-type {\n",
       "        vertical-align: middle;\n",
       "    }\n",
       "\n",
       "    .dataframe tbody tr th {\n",
       "        vertical-align: top;\n",
       "    }\n",
       "\n",
       "    .dataframe thead th {\n",
       "        text-align: right;\n",
       "    }\n",
       "</style>\n",
       "<table border=\"1\" class=\"dataframe\">\n",
       "  <thead>\n",
       "    <tr style=\"text-align: right;\">\n",
       "      <th></th>\n",
       "      <th>k1</th>\n",
       "      <th>k2</th>\n",
       "    </tr>\n",
       "  </thead>\n",
       "  <tbody>\n",
       "    <tr>\n",
       "      <th>0</th>\n",
       "      <td>one</td>\n",
       "      <td>1</td>\n",
       "    </tr>\n",
       "    <tr>\n",
       "      <th>1</th>\n",
       "      <td>two</td>\n",
       "      <td>1</td>\n",
       "    </tr>\n",
       "    <tr>\n",
       "      <th>2</th>\n",
       "      <td>one</td>\n",
       "      <td>2</td>\n",
       "    </tr>\n",
       "    <tr>\n",
       "      <th>3</th>\n",
       "      <td>two</td>\n",
       "      <td>3</td>\n",
       "    </tr>\n",
       "    <tr>\n",
       "      <th>4</th>\n",
       "      <td>one</td>\n",
       "      <td>3</td>\n",
       "    </tr>\n",
       "    <tr>\n",
       "      <th>5</th>\n",
       "      <td>two</td>\n",
       "      <td>4</td>\n",
       "    </tr>\n",
       "  </tbody>\n",
       "</table>\n",
       "</div>"
      ]
     },
     "execution_count": 3,
     "metadata": {},
     "output_type": "execute_result"
    }
   ],
   "execution_count": 3
  },
  {
   "metadata": {
    "ExecuteTime": {
     "end_time": "2024-12-07T15:40:57.593617Z",
     "start_time": "2024-12-07T15:40:57.585182Z"
    }
   },
   "cell_type": "code",
   "source": [
    "df.drop([0,4],inplace=True)\n",
    "df"
   ],
   "id": "6aa1262cdf637ba",
   "outputs": [
    {
     "data": {
      "text/plain": [
       "    k1  k2\n",
       "1  two   1\n",
       "2  one   2\n",
       "3  two   3\n",
       "5  two   4\n",
       "6  two   4"
      ],
      "text/html": [
       "<div>\n",
       "<style scoped>\n",
       "    .dataframe tbody tr th:only-of-type {\n",
       "        vertical-align: middle;\n",
       "    }\n",
       "\n",
       "    .dataframe tbody tr th {\n",
       "        vertical-align: top;\n",
       "    }\n",
       "\n",
       "    .dataframe thead th {\n",
       "        text-align: right;\n",
       "    }\n",
       "</style>\n",
       "<table border=\"1\" class=\"dataframe\">\n",
       "  <thead>\n",
       "    <tr style=\"text-align: right;\">\n",
       "      <th></th>\n",
       "      <th>k1</th>\n",
       "      <th>k2</th>\n",
       "    </tr>\n",
       "  </thead>\n",
       "  <tbody>\n",
       "    <tr>\n",
       "      <th>1</th>\n",
       "      <td>two</td>\n",
       "      <td>1</td>\n",
       "    </tr>\n",
       "    <tr>\n",
       "      <th>2</th>\n",
       "      <td>one</td>\n",
       "      <td>2</td>\n",
       "    </tr>\n",
       "    <tr>\n",
       "      <th>3</th>\n",
       "      <td>two</td>\n",
       "      <td>3</td>\n",
       "    </tr>\n",
       "    <tr>\n",
       "      <th>5</th>\n",
       "      <td>two</td>\n",
       "      <td>4</td>\n",
       "    </tr>\n",
       "    <tr>\n",
       "      <th>6</th>\n",
       "      <td>two</td>\n",
       "      <td>4</td>\n",
       "    </tr>\n",
       "  </tbody>\n",
       "</table>\n",
       "</div>"
      ]
     },
     "execution_count": 4,
     "metadata": {},
     "output_type": "execute_result"
    }
   ],
   "execution_count": 4
  },
  {
   "metadata": {
    "ExecuteTime": {
     "end_time": "2024-12-07T15:40:57.781505Z",
     "start_time": "2024-12-07T15:40:57.772819Z"
    }
   },
   "cell_type": "code",
   "source": [
    "new_df = df.reset_index()\n",
    "new_df"
   ],
   "id": "85a08d78ce0738dd",
   "outputs": [
    {
     "data": {
      "text/plain": [
       "   index   k1  k2\n",
       "0      1  two   1\n",
       "1      2  one   2\n",
       "2      3  two   3\n",
       "3      5  two   4\n",
       "4      6  two   4"
      ],
      "text/html": [
       "<div>\n",
       "<style scoped>\n",
       "    .dataframe tbody tr th:only-of-type {\n",
       "        vertical-align: middle;\n",
       "    }\n",
       "\n",
       "    .dataframe tbody tr th {\n",
       "        vertical-align: top;\n",
       "    }\n",
       "\n",
       "    .dataframe thead th {\n",
       "        text-align: right;\n",
       "    }\n",
       "</style>\n",
       "<table border=\"1\" class=\"dataframe\">\n",
       "  <thead>\n",
       "    <tr style=\"text-align: right;\">\n",
       "      <th></th>\n",
       "      <th>index</th>\n",
       "      <th>k1</th>\n",
       "      <th>k2</th>\n",
       "    </tr>\n",
       "  </thead>\n",
       "  <tbody>\n",
       "    <tr>\n",
       "      <th>0</th>\n",
       "      <td>1</td>\n",
       "      <td>two</td>\n",
       "      <td>1</td>\n",
       "    </tr>\n",
       "    <tr>\n",
       "      <th>1</th>\n",
       "      <td>2</td>\n",
       "      <td>one</td>\n",
       "      <td>2</td>\n",
       "    </tr>\n",
       "    <tr>\n",
       "      <th>2</th>\n",
       "      <td>3</td>\n",
       "      <td>two</td>\n",
       "      <td>3</td>\n",
       "    </tr>\n",
       "    <tr>\n",
       "      <th>3</th>\n",
       "      <td>5</td>\n",
       "      <td>two</td>\n",
       "      <td>4</td>\n",
       "    </tr>\n",
       "    <tr>\n",
       "      <th>4</th>\n",
       "      <td>6</td>\n",
       "      <td>two</td>\n",
       "      <td>4</td>\n",
       "    </tr>\n",
       "  </tbody>\n",
       "</table>\n",
       "</div>"
      ]
     },
     "execution_count": 5,
     "metadata": {},
     "output_type": "execute_result"
    }
   ],
   "execution_count": 5
  },
  {
   "metadata": {
    "ExecuteTime": {
     "end_time": "2024-12-07T15:40:58.321108Z",
     "start_time": "2024-12-07T15:40:58.313507Z"
    }
   },
   "cell_type": "code",
   "source": [
    "new_df.drop(columns = ['index'],inplace=True)\n",
    "new_df"
   ],
   "id": "281db6a9c5d8aad9",
   "outputs": [
    {
     "data": {
      "text/plain": [
       "    k1  k2\n",
       "0  two   1\n",
       "1  one   2\n",
       "2  two   3\n",
       "3  two   4\n",
       "4  two   4"
      ],
      "text/html": [
       "<div>\n",
       "<style scoped>\n",
       "    .dataframe tbody tr th:only-of-type {\n",
       "        vertical-align: middle;\n",
       "    }\n",
       "\n",
       "    .dataframe tbody tr th {\n",
       "        vertical-align: top;\n",
       "    }\n",
       "\n",
       "    .dataframe thead th {\n",
       "        text-align: right;\n",
       "    }\n",
       "</style>\n",
       "<table border=\"1\" class=\"dataframe\">\n",
       "  <thead>\n",
       "    <tr style=\"text-align: right;\">\n",
       "      <th></th>\n",
       "      <th>k1</th>\n",
       "      <th>k2</th>\n",
       "    </tr>\n",
       "  </thead>\n",
       "  <tbody>\n",
       "    <tr>\n",
       "      <th>0</th>\n",
       "      <td>two</td>\n",
       "      <td>1</td>\n",
       "    </tr>\n",
       "    <tr>\n",
       "      <th>1</th>\n",
       "      <td>one</td>\n",
       "      <td>2</td>\n",
       "    </tr>\n",
       "    <tr>\n",
       "      <th>2</th>\n",
       "      <td>two</td>\n",
       "      <td>3</td>\n",
       "    </tr>\n",
       "    <tr>\n",
       "      <th>3</th>\n",
       "      <td>two</td>\n",
       "      <td>4</td>\n",
       "    </tr>\n",
       "    <tr>\n",
       "      <th>4</th>\n",
       "      <td>two</td>\n",
       "      <td>4</td>\n",
       "    </tr>\n",
       "  </tbody>\n",
       "</table>\n",
       "</div>"
      ]
     },
     "execution_count": 6,
     "metadata": {},
     "output_type": "execute_result"
    }
   ],
   "execution_count": 6
  },
  {
   "metadata": {
    "ExecuteTime": {
     "end_time": "2024-12-07T15:40:58.593822Z",
     "start_time": "2024-12-07T15:40:58.586243Z"
    }
   },
   "cell_type": "code",
   "source": "new_df.drop(columns = ['k1'])",
   "id": "75e18d54658f8a89",
   "outputs": [
    {
     "data": {
      "text/plain": [
       "   k2\n",
       "0   1\n",
       "1   2\n",
       "2   3\n",
       "3   4\n",
       "4   4"
      ],
      "text/html": [
       "<div>\n",
       "<style scoped>\n",
       "    .dataframe tbody tr th:only-of-type {\n",
       "        vertical-align: middle;\n",
       "    }\n",
       "\n",
       "    .dataframe tbody tr th {\n",
       "        vertical-align: top;\n",
       "    }\n",
       "\n",
       "    .dataframe thead th {\n",
       "        text-align: right;\n",
       "    }\n",
       "</style>\n",
       "<table border=\"1\" class=\"dataframe\">\n",
       "  <thead>\n",
       "    <tr style=\"text-align: right;\">\n",
       "      <th></th>\n",
       "      <th>k2</th>\n",
       "    </tr>\n",
       "  </thead>\n",
       "  <tbody>\n",
       "    <tr>\n",
       "      <th>0</th>\n",
       "      <td>1</td>\n",
       "    </tr>\n",
       "    <tr>\n",
       "      <th>1</th>\n",
       "      <td>2</td>\n",
       "    </tr>\n",
       "    <tr>\n",
       "      <th>2</th>\n",
       "      <td>3</td>\n",
       "    </tr>\n",
       "    <tr>\n",
       "      <th>3</th>\n",
       "      <td>4</td>\n",
       "    </tr>\n",
       "    <tr>\n",
       "      <th>4</th>\n",
       "      <td>4</td>\n",
       "    </tr>\n",
       "  </tbody>\n",
       "</table>\n",
       "</div>"
      ]
     },
     "execution_count": 7,
     "metadata": {},
     "output_type": "execute_result"
    }
   ],
   "execution_count": 7
  },
  {
   "metadata": {},
   "cell_type": "markdown",
   "source": "## find the null value and drop them ",
   "id": "fe63e9aaed9ab073"
  },
  {
   "metadata": {
    "ExecuteTime": {
     "end_time": "2024-12-07T15:40:58.872684Z",
     "start_time": "2024-12-07T15:40:58.840167Z"
    }
   },
   "cell_type": "code",
   "source": [
    "import pandas as pd\n",
    "import numpy as np\n",
    "df = pd.read_csv('data.csv')\n",
    "print(df.to_string())\n",
    "print(df.info())"
   ],
   "id": "f001264fc126fad7",
   "outputs": [
    {
     "name": "stdout",
     "output_type": "stream",
     "text": [
      "     Duration  Pulse  Maxpulse  Calories\n",
      "0        60.0  110.0     130.0     409.1\n",
      "1        60.0  117.0     145.0     479.0\n",
      "2        60.0  103.0     135.0     340.0\n",
      "3        45.0  109.0     175.0     282.4\n",
      "4        45.0  117.0     148.0     406.0\n",
      "5        60.0  102.0     127.0     300.0\n",
      "6        60.0  110.0     136.0     374.0\n",
      "7        45.0  104.0     134.0     253.3\n",
      "8        30.0  109.0     133.0     195.1\n",
      "9        60.0   98.0     124.0     269.0\n",
      "10       60.0  103.0     147.0     329.3\n",
      "11       60.0  100.0     120.0     250.7\n",
      "12       60.0  106.0     128.0     345.3\n",
      "13       60.0  104.0     132.0     379.3\n",
      "14       60.0   98.0     123.0     275.0\n",
      "15       60.0   98.0     120.0     215.2\n",
      "16       60.0  100.0     120.0     300.0\n",
      "17       45.0   90.0     112.0       NaN\n",
      "18       60.0  103.0     123.0     323.0\n",
      "19       45.0   97.0     125.0     243.0\n",
      "20       60.0  108.0     131.0     364.2\n",
      "21       45.0  100.0     119.0     282.0\n",
      "22       60.0  130.0     101.0     300.0\n",
      "23       45.0  105.0     132.0     246.0\n",
      "24       60.0  102.0     126.0     334.5\n",
      "25       60.0  100.0     120.0     250.0\n",
      "26       60.0   92.0     118.0     241.0\n",
      "27       60.0  103.0     132.0       NaN\n",
      "28       60.0  100.0     132.0     280.0\n",
      "29       60.0  102.0     129.0     380.3\n",
      "30       60.0   92.0     115.0     243.0\n",
      "31       45.0   90.0     112.0     180.1\n",
      "32       60.0  101.0     124.0     299.0\n",
      "33       60.0   93.0     113.0     223.0\n",
      "34       60.0  107.0     136.0     361.0\n",
      "35       60.0  114.0     140.0     415.0\n",
      "36       60.0  102.0     127.0     300.0\n",
      "37       60.0  100.0     120.0     300.0\n",
      "38       60.0  100.0     120.0     300.0\n",
      "39       45.0  104.0     129.0     266.0\n",
      "40       45.0   90.0     112.0     180.1\n",
      "41       60.0   98.0     126.0     286.0\n",
      "42       60.0  100.0     122.0     329.4\n",
      "43       60.0  111.0     138.0     400.0\n",
      "44       60.0  111.0     131.0     397.0\n",
      "45       60.0   99.0     119.0     273.0\n",
      "46       60.0  109.0     153.0     387.6\n",
      "47       45.0  111.0     136.0     300.0\n",
      "48       45.0  108.0     129.0     298.0\n",
      "49       60.0  111.0     139.0     397.6\n",
      "50       60.0  107.0     136.0     380.2\n",
      "51       80.0  123.0     146.0     643.1\n",
      "52        NaN  106.0     130.0     263.0\n",
      "53       60.0  118.0       NaN     486.0\n",
      "54        NaN  136.0     175.0     238.0\n",
      "55       60.0  121.0     146.0     450.7\n",
      "56       60.0  118.0     121.0     413.0\n",
      "57       45.0  115.0     144.0     305.0\n",
      "58       20.0  153.0     172.0     226.4\n",
      "59       45.0  123.0     152.0     321.0\n",
      "60      210.0  108.0     160.0    1376.0\n",
      "61      160.0  110.0     137.0    1034.4\n",
      "62      160.0  109.0     135.0     853.0\n",
      "63       45.0    NaN     141.0     341.0\n",
      "64       20.0  110.0     130.0     131.4\n",
      "65      180.0   90.0     130.0     800.4\n",
      "66      150.0  105.0     135.0     873.4\n",
      "67      150.0  107.0     130.0     816.0\n",
      "68       20.0  106.0     136.0     110.4\n",
      "69      300.0  108.0     143.0    1500.2\n",
      "70      150.0   97.0     129.0    1115.0\n",
      "71       60.0  109.0     153.0     387.6\n",
      "72       90.0  100.0     127.0     700.0\n",
      "73        NaN   97.0     127.0     953.2\n",
      "74       45.0  114.0     146.0     304.0\n",
      "75       90.0   98.0     125.0     563.2\n",
      "76       45.0  105.0     134.0     251.0\n",
      "77       45.0  110.0     141.0     300.0\n",
      "78      120.0  100.0     130.0     500.4\n",
      "79      270.0  100.0     131.0    1729.0\n",
      "80       30.0  159.0     182.0     319.2\n",
      "81       45.0  149.0     169.0     344.0\n",
      "82       30.0  103.0     139.0     151.1\n",
      "83      120.0  100.0     130.0     500.0\n",
      "84       45.0  100.0     120.0     225.3\n",
      "85        NaN  151.0       NaN     300.0\n",
      "86       45.0  102.0     136.0     234.0\n",
      "87      120.0  100.0     157.0    1000.1\n",
      "88       45.0  129.0     103.0     242.0\n",
      "89       20.0   83.0     107.0      50.3\n",
      "90      180.0  101.0     127.0     600.1\n",
      "91       45.0  107.0     137.0       NaN\n",
      "92       30.0   90.0     107.0     105.3\n",
      "93       15.0   80.0     100.0      50.5\n",
      "94       20.0  150.0     171.0     127.4\n",
      "95       20.0  151.0     168.0     229.4\n",
      "96       30.0   95.0     128.0     128.2\n",
      "97       25.0  152.0     168.0     244.2\n",
      "98       30.0  109.0     131.0     188.2\n",
      "99       90.0   93.0     124.0     604.1\n",
      "100      20.0   95.0     112.0      77.7\n",
      "101      90.0   90.0       NaN     500.0\n",
      "102      90.0   90.0     100.0     500.0\n",
      "103      90.0   90.0     100.0     500.4\n",
      "104      30.0   92.0     108.0      92.7\n",
      "105      30.0   93.0     128.0     124.0\n",
      "106     180.0   90.0     120.0     800.3\n",
      "107      30.0   90.0     120.0      86.2\n",
      "108      90.0   90.0     120.0     500.3\n",
      "109     210.0  137.0     184.0    1860.4\n",
      "110      60.0  102.0     124.0     325.2\n",
      "111      45.0  107.0     124.0     275.0\n",
      "112      15.0  124.0     139.0     124.2\n",
      "113      45.0  100.0     120.0     225.3\n",
      "114      60.0  108.0     131.0     367.6\n",
      "115      60.0  108.0     151.0     351.7\n",
      "116      60.0  116.0     141.0     443.0\n",
      "117      60.0   97.0     122.0     277.4\n",
      "118      60.0  105.0     125.0       NaN\n",
      "119      60.0  103.0     124.0     332.7\n",
      "120      30.0  112.0     137.0     193.9\n",
      "121      45.0  100.0     120.0     100.7\n",
      "122      60.0  119.0       NaN     336.7\n",
      "123      60.0  107.0     127.0     344.9\n",
      "124      60.0  111.0     151.0     368.5\n",
      "125      60.0   98.0     122.0     271.0\n",
      "126      60.0   97.0     124.0     275.3\n",
      "127      60.0  109.0     127.0     382.0\n",
      "128      90.0   99.0     125.0     466.4\n",
      "129      60.0  114.0     151.0     384.0\n",
      "130      60.0  104.0     134.0     342.5\n",
      "131      60.0  107.0     138.0     357.5\n",
      "132      60.0  103.0     133.0     335.0\n",
      "133      60.0  106.0     132.0     327.5\n",
      "134      60.0  103.0     136.0     339.0\n",
      "135      20.0  136.0     156.0     189.0\n",
      "136      45.0  117.0     143.0     317.7\n",
      "137      45.0  115.0     137.0     318.0\n",
      "138      45.0  113.0     138.0     308.0\n",
      "139      20.0  141.0     162.0     222.4\n",
      "140      60.0  108.0     135.0     390.0\n",
      "141      60.0   97.0     127.0       NaN\n",
      "142      45.0  100.0     120.0     250.4\n",
      "143      45.0  122.0     149.0     335.4\n",
      "144      60.0  136.0     170.0     470.2\n",
      "145      45.0  106.0     126.0     270.8\n",
      "146      60.0  107.0     136.0     400.0\n",
      "147      60.0  112.0     146.0     361.9\n",
      "148      30.0  103.0     127.0     185.0\n",
      "149      60.0  110.0     150.0     409.4\n",
      "150      60.0  106.0     134.0     343.0\n",
      "151      60.0  109.0     129.0     353.2\n",
      "152      60.0  109.0     138.0     374.0\n",
      "153      30.0  150.0     167.0     275.8\n",
      "154      60.0  105.0     128.0     328.0\n",
      "155      60.0  111.0     151.0     368.5\n",
      "156      60.0   97.0     131.0     270.4\n",
      "157      60.0  100.0     120.0     270.4\n",
      "158      60.0  114.0     150.0     382.8\n",
      "159      30.0   80.0     120.0     240.9\n",
      "160      30.0   85.0     120.0     250.4\n",
      "161      45.0   90.0     130.0     260.4\n",
      "162      45.0   95.0     130.0     270.0\n",
      "163      45.0  100.0     140.0     280.9\n",
      "164      60.0  105.0     140.0     290.8\n",
      "165      60.0  110.0     145.0     300.0\n",
      "166      60.0  115.0     145.0     310.2\n",
      "167      75.0  120.0     150.0     320.4\n",
      "168      75.0  125.0     150.0     330.4\n",
      "<class 'pandas.core.frame.DataFrame'>\n",
      "RangeIndex: 169 entries, 0 to 168\n",
      "Data columns (total 4 columns):\n",
      " #   Column    Non-Null Count  Dtype  \n",
      "---  ------    --------------  -----  \n",
      " 0   Duration  165 non-null    float64\n",
      " 1   Pulse     168 non-null    float64\n",
      " 2   Maxpulse  165 non-null    float64\n",
      " 3   Calories  164 non-null    float64\n",
      "dtypes: float64(4)\n",
      "memory usage: 5.4 KB\n",
      "None\n"
     ]
    }
   ],
   "execution_count": 8
  },
  {
   "metadata": {
    "ExecuteTime": {
     "end_time": "2024-12-07T15:40:59.127652Z",
     "start_time": "2024-12-07T15:40:59.120276Z"
    }
   },
   "cell_type": "code",
   "source": [
    "df2 = df.dropna()\n",
    "print(df2.info())"
   ],
   "id": "41425e9e75c8d02",
   "outputs": [
    {
     "name": "stdout",
     "output_type": "stream",
     "text": [
      "<class 'pandas.core.frame.DataFrame'>\n",
      "Index: 156 entries, 0 to 168\n",
      "Data columns (total 4 columns):\n",
      " #   Column    Non-Null Count  Dtype  \n",
      "---  ------    --------------  -----  \n",
      " 0   Duration  156 non-null    float64\n",
      " 1   Pulse     156 non-null    float64\n",
      " 2   Maxpulse  156 non-null    float64\n",
      " 3   Calories  156 non-null    float64\n",
      "dtypes: float64(4)\n",
      "memory usage: 6.1 KB\n",
      "None\n"
     ]
    }
   ],
   "execution_count": 9
  },
  {
   "metadata": {
    "ExecuteTime": {
     "end_time": "2024-12-07T15:40:59.350360Z",
     "start_time": "2024-12-07T15:40:59.342483Z"
    }
   },
   "cell_type": "code",
   "source": [
    "x = df['Calories'].mean()\n",
    "df.fillna({'Calories':x}, inplace=True)\n",
    "print(df.info())"
   ],
   "id": "70dc8c9e13369c05",
   "outputs": [
    {
     "name": "stdout",
     "output_type": "stream",
     "text": [
      "<class 'pandas.core.frame.DataFrame'>\n",
      "RangeIndex: 169 entries, 0 to 168\n",
      "Data columns (total 4 columns):\n",
      " #   Column    Non-Null Count  Dtype  \n",
      "---  ------    --------------  -----  \n",
      " 0   Duration  165 non-null    float64\n",
      " 1   Pulse     168 non-null    float64\n",
      " 2   Maxpulse  165 non-null    float64\n",
      " 3   Calories  169 non-null    float64\n",
      "dtypes: float64(4)\n",
      "memory usage: 5.4 KB\n",
      "None\n"
     ]
    }
   ],
   "execution_count": 10
  },
  {
   "metadata": {
    "ExecuteTime": {
     "end_time": "2024-12-07T15:41:00.241115Z",
     "start_time": "2024-12-07T15:41:00.230565Z"
    }
   },
   "cell_type": "code",
   "source": [
    "z = df.mean()\n",
    "df.fillna(z, inplace=True)\n",
    "print(df.info())"
   ],
   "id": "79c3dee836585e29",
   "outputs": [
    {
     "name": "stdout",
     "output_type": "stream",
     "text": [
      "<class 'pandas.core.frame.DataFrame'>\n",
      "RangeIndex: 169 entries, 0 to 168\n",
      "Data columns (total 4 columns):\n",
      " #   Column    Non-Null Count  Dtype  \n",
      "---  ------    --------------  -----  \n",
      " 0   Duration  169 non-null    float64\n",
      " 1   Pulse     169 non-null    float64\n",
      " 2   Maxpulse  169 non-null    float64\n",
      " 3   Calories  169 non-null    float64\n",
      "dtypes: float64(4)\n",
      "memory usage: 5.4 KB\n",
      "None\n"
     ]
    }
   ],
   "execution_count": 11
  },
  {
   "metadata": {},
   "cell_type": "markdown",
   "source": "---",
   "id": "cb4d33212d95d552"
  },
  {
   "metadata": {
    "ExecuteTime": {
     "end_time": "2024-12-07T15:41:00.326256Z",
     "start_time": "2024-12-07T15:41:00.317207Z"
    }
   },
   "cell_type": "code",
   "source": [
    "from numpy import nan as NA\n",
    "data = pd.DataFrame([[1., 6.5, 3., 8., 2.3], [1., NA, NA, 5, 1.4],\n",
    "                     [NA, NA, 2,  NA, 4.5], [NA, 6.5, 3.,NA, 3.1],\n",
    "                     [2.5, 8.1, NA, NA, 2], [NA , NA, NA , 4.2, NA],\n",
    "                     [2, 5.2, 1.8, NA, 2.5]])\n",
    "data.index = ['A','B','C','D','E','F','G']\n",
    "data"
   ],
   "id": "70e28ed992656ddf",
   "outputs": [
    {
     "data": {
      "text/plain": [
       "     0    1    2    3    4\n",
       "A  1.0  6.5  3.0  8.0  2.3\n",
       "B  1.0  NaN  NaN  5.0  1.4\n",
       "C  NaN  NaN  2.0  NaN  4.5\n",
       "D  NaN  6.5  3.0  NaN  3.1\n",
       "E  2.5  8.1  NaN  NaN  2.0\n",
       "F  NaN  NaN  NaN  4.2  NaN\n",
       "G  2.0  5.2  1.8  NaN  2.5"
      ],
      "text/html": [
       "<div>\n",
       "<style scoped>\n",
       "    .dataframe tbody tr th:only-of-type {\n",
       "        vertical-align: middle;\n",
       "    }\n",
       "\n",
       "    .dataframe tbody tr th {\n",
       "        vertical-align: top;\n",
       "    }\n",
       "\n",
       "    .dataframe thead th {\n",
       "        text-align: right;\n",
       "    }\n",
       "</style>\n",
       "<table border=\"1\" class=\"dataframe\">\n",
       "  <thead>\n",
       "    <tr style=\"text-align: right;\">\n",
       "      <th></th>\n",
       "      <th>0</th>\n",
       "      <th>1</th>\n",
       "      <th>2</th>\n",
       "      <th>3</th>\n",
       "      <th>4</th>\n",
       "    </tr>\n",
       "  </thead>\n",
       "  <tbody>\n",
       "    <tr>\n",
       "      <th>A</th>\n",
       "      <td>1.0</td>\n",
       "      <td>6.5</td>\n",
       "      <td>3.0</td>\n",
       "      <td>8.0</td>\n",
       "      <td>2.3</td>\n",
       "    </tr>\n",
       "    <tr>\n",
       "      <th>B</th>\n",
       "      <td>1.0</td>\n",
       "      <td>NaN</td>\n",
       "      <td>NaN</td>\n",
       "      <td>5.0</td>\n",
       "      <td>1.4</td>\n",
       "    </tr>\n",
       "    <tr>\n",
       "      <th>C</th>\n",
       "      <td>NaN</td>\n",
       "      <td>NaN</td>\n",
       "      <td>2.0</td>\n",
       "      <td>NaN</td>\n",
       "      <td>4.5</td>\n",
       "    </tr>\n",
       "    <tr>\n",
       "      <th>D</th>\n",
       "      <td>NaN</td>\n",
       "      <td>6.5</td>\n",
       "      <td>3.0</td>\n",
       "      <td>NaN</td>\n",
       "      <td>3.1</td>\n",
       "    </tr>\n",
       "    <tr>\n",
       "      <th>E</th>\n",
       "      <td>2.5</td>\n",
       "      <td>8.1</td>\n",
       "      <td>NaN</td>\n",
       "      <td>NaN</td>\n",
       "      <td>2.0</td>\n",
       "    </tr>\n",
       "    <tr>\n",
       "      <th>F</th>\n",
       "      <td>NaN</td>\n",
       "      <td>NaN</td>\n",
       "      <td>NaN</td>\n",
       "      <td>4.2</td>\n",
       "      <td>NaN</td>\n",
       "    </tr>\n",
       "    <tr>\n",
       "      <th>G</th>\n",
       "      <td>2.0</td>\n",
       "      <td>5.2</td>\n",
       "      <td>1.8</td>\n",
       "      <td>NaN</td>\n",
       "      <td>2.5</td>\n",
       "    </tr>\n",
       "  </tbody>\n",
       "</table>\n",
       "</div>"
      ]
     },
     "execution_count": 12,
     "metadata": {},
     "output_type": "execute_result"
    }
   ],
   "execution_count": 12
  },
  {
   "metadata": {},
   "cell_type": "markdown",
   "source": "### Drop the rows with so much null values",
   "id": "3a406d890c9f5833"
  },
  {
   "metadata": {
    "ExecuteTime": {
     "end_time": "2024-12-07T15:41:00.463751Z",
     "start_time": "2024-12-07T15:41:00.453723Z"
    }
   },
   "cell_type": "code",
   "source": "data.dropna(thresh=3)",
   "id": "31586456b2f4b450",
   "outputs": [
    {
     "data": {
      "text/plain": [
       "     0    1    2    3    4\n",
       "A  1.0  6.5  3.0  8.0  2.3\n",
       "B  1.0  NaN  NaN  5.0  1.4\n",
       "D  NaN  6.5  3.0  NaN  3.1\n",
       "E  2.5  8.1  NaN  NaN  2.0\n",
       "G  2.0  5.2  1.8  NaN  2.5"
      ],
      "text/html": [
       "<div>\n",
       "<style scoped>\n",
       "    .dataframe tbody tr th:only-of-type {\n",
       "        vertical-align: middle;\n",
       "    }\n",
       "\n",
       "    .dataframe tbody tr th {\n",
       "        vertical-align: top;\n",
       "    }\n",
       "\n",
       "    .dataframe thead th {\n",
       "        text-align: right;\n",
       "    }\n",
       "</style>\n",
       "<table border=\"1\" class=\"dataframe\">\n",
       "  <thead>\n",
       "    <tr style=\"text-align: right;\">\n",
       "      <th></th>\n",
       "      <th>0</th>\n",
       "      <th>1</th>\n",
       "      <th>2</th>\n",
       "      <th>3</th>\n",
       "      <th>4</th>\n",
       "    </tr>\n",
       "  </thead>\n",
       "  <tbody>\n",
       "    <tr>\n",
       "      <th>A</th>\n",
       "      <td>1.0</td>\n",
       "      <td>6.5</td>\n",
       "      <td>3.0</td>\n",
       "      <td>8.0</td>\n",
       "      <td>2.3</td>\n",
       "    </tr>\n",
       "    <tr>\n",
       "      <th>B</th>\n",
       "      <td>1.0</td>\n",
       "      <td>NaN</td>\n",
       "      <td>NaN</td>\n",
       "      <td>5.0</td>\n",
       "      <td>1.4</td>\n",
       "    </tr>\n",
       "    <tr>\n",
       "      <th>D</th>\n",
       "      <td>NaN</td>\n",
       "      <td>6.5</td>\n",
       "      <td>3.0</td>\n",
       "      <td>NaN</td>\n",
       "      <td>3.1</td>\n",
       "    </tr>\n",
       "    <tr>\n",
       "      <th>E</th>\n",
       "      <td>2.5</td>\n",
       "      <td>8.1</td>\n",
       "      <td>NaN</td>\n",
       "      <td>NaN</td>\n",
       "      <td>2.0</td>\n",
       "    </tr>\n",
       "    <tr>\n",
       "      <th>G</th>\n",
       "      <td>2.0</td>\n",
       "      <td>5.2</td>\n",
       "      <td>1.8</td>\n",
       "      <td>NaN</td>\n",
       "      <td>2.5</td>\n",
       "    </tr>\n",
       "  </tbody>\n",
       "</table>\n",
       "</div>"
      ]
     },
     "execution_count": 13,
     "metadata": {},
     "output_type": "execute_result"
    }
   ],
   "execution_count": 13
  },
  {
   "metadata": {
    "ExecuteTime": {
     "end_time": "2024-12-07T15:41:00.686712Z",
     "start_time": "2024-12-07T15:41:00.669461Z"
    }
   },
   "cell_type": "code",
   "source": [
    "data = pd.DataFrame([[1., 6.5, 3., NA, 2.3], [1., NA, NA, 5, 1.4],\n",
    "                     [NA, NA, 2,  NA, 4.5], [NA, 6.5, 3.,NA, 3.1],\n",
    "                     [2.5, 8.1, NA, NA, 2], [NA , NA, 1, NA , NA], \n",
    "                     [2, 5.2, 1.8, NA, 2.5],  [3, 2.1, 8.1, NA, 2.5],\n",
    "                     [NA, 8.2, NA, NA, 1.9], [2, NA, 1.5, NA, 7.2]])\n",
    "data.index = ['A','B','C','D','E','F','G','H','I','J']\n",
    "data"
   ],
   "id": "2e7b700c65b2a8ac",
   "outputs": [
    {
     "data": {
      "text/plain": [
       "     0    1    2    3    4\n",
       "A  1.0  6.5  3.0  NaN  2.3\n",
       "B  1.0  NaN  NaN  5.0  1.4\n",
       "C  NaN  NaN  2.0  NaN  4.5\n",
       "D  NaN  6.5  3.0  NaN  3.1\n",
       "E  2.5  8.1  NaN  NaN  2.0\n",
       "F  NaN  NaN  1.0  NaN  NaN\n",
       "G  2.0  5.2  1.8  NaN  2.5\n",
       "H  3.0  2.1  8.1  NaN  2.5\n",
       "I  NaN  8.2  NaN  NaN  1.9\n",
       "J  2.0  NaN  1.5  NaN  7.2"
      ],
      "text/html": [
       "<div>\n",
       "<style scoped>\n",
       "    .dataframe tbody tr th:only-of-type {\n",
       "        vertical-align: middle;\n",
       "    }\n",
       "\n",
       "    .dataframe tbody tr th {\n",
       "        vertical-align: top;\n",
       "    }\n",
       "\n",
       "    .dataframe thead th {\n",
       "        text-align: right;\n",
       "    }\n",
       "</style>\n",
       "<table border=\"1\" class=\"dataframe\">\n",
       "  <thead>\n",
       "    <tr style=\"text-align: right;\">\n",
       "      <th></th>\n",
       "      <th>0</th>\n",
       "      <th>1</th>\n",
       "      <th>2</th>\n",
       "      <th>3</th>\n",
       "      <th>4</th>\n",
       "    </tr>\n",
       "  </thead>\n",
       "  <tbody>\n",
       "    <tr>\n",
       "      <th>A</th>\n",
       "      <td>1.0</td>\n",
       "      <td>6.5</td>\n",
       "      <td>3.0</td>\n",
       "      <td>NaN</td>\n",
       "      <td>2.3</td>\n",
       "    </tr>\n",
       "    <tr>\n",
       "      <th>B</th>\n",
       "      <td>1.0</td>\n",
       "      <td>NaN</td>\n",
       "      <td>NaN</td>\n",
       "      <td>5.0</td>\n",
       "      <td>1.4</td>\n",
       "    </tr>\n",
       "    <tr>\n",
       "      <th>C</th>\n",
       "      <td>NaN</td>\n",
       "      <td>NaN</td>\n",
       "      <td>2.0</td>\n",
       "      <td>NaN</td>\n",
       "      <td>4.5</td>\n",
       "    </tr>\n",
       "    <tr>\n",
       "      <th>D</th>\n",
       "      <td>NaN</td>\n",
       "      <td>6.5</td>\n",
       "      <td>3.0</td>\n",
       "      <td>NaN</td>\n",
       "      <td>3.1</td>\n",
       "    </tr>\n",
       "    <tr>\n",
       "      <th>E</th>\n",
       "      <td>2.5</td>\n",
       "      <td>8.1</td>\n",
       "      <td>NaN</td>\n",
       "      <td>NaN</td>\n",
       "      <td>2.0</td>\n",
       "    </tr>\n",
       "    <tr>\n",
       "      <th>F</th>\n",
       "      <td>NaN</td>\n",
       "      <td>NaN</td>\n",
       "      <td>1.0</td>\n",
       "      <td>NaN</td>\n",
       "      <td>NaN</td>\n",
       "    </tr>\n",
       "    <tr>\n",
       "      <th>G</th>\n",
       "      <td>2.0</td>\n",
       "      <td>5.2</td>\n",
       "      <td>1.8</td>\n",
       "      <td>NaN</td>\n",
       "      <td>2.5</td>\n",
       "    </tr>\n",
       "    <tr>\n",
       "      <th>H</th>\n",
       "      <td>3.0</td>\n",
       "      <td>2.1</td>\n",
       "      <td>8.1</td>\n",
       "      <td>NaN</td>\n",
       "      <td>2.5</td>\n",
       "    </tr>\n",
       "    <tr>\n",
       "      <th>I</th>\n",
       "      <td>NaN</td>\n",
       "      <td>8.2</td>\n",
       "      <td>NaN</td>\n",
       "      <td>NaN</td>\n",
       "      <td>1.9</td>\n",
       "    </tr>\n",
       "    <tr>\n",
       "      <th>J</th>\n",
       "      <td>2.0</td>\n",
       "      <td>NaN</td>\n",
       "      <td>1.5</td>\n",
       "      <td>NaN</td>\n",
       "      <td>7.2</td>\n",
       "    </tr>\n",
       "  </tbody>\n",
       "</table>\n",
       "</div>"
      ]
     },
     "execution_count": 14,
     "metadata": {},
     "output_type": "execute_result"
    }
   ],
   "execution_count": 14
  },
  {
   "metadata": {
    "ExecuteTime": {
     "end_time": "2024-12-07T15:41:00.898348Z",
     "start_time": "2024-12-07T15:41:00.892978Z"
    }
   },
   "cell_type": "code",
   "source": "data.isna().sum()",
   "id": "ecdb46a801520a39",
   "outputs": [
    {
     "data": {
      "text/plain": [
       "0    4\n",
       "1    4\n",
       "2    3\n",
       "3    9\n",
       "4    1\n",
       "dtype: int64"
      ]
     },
     "execution_count": 15,
     "metadata": {},
     "output_type": "execute_result"
    }
   ],
   "execution_count": 15
  },
  {
   "metadata": {},
   "cell_type": "markdown",
   "source": "### Drop a column with more than %90 Null value",
   "id": "6bdbc9d9ac6e7c36"
  },
  {
   "metadata": {
    "ExecuteTime": {
     "end_time": "2024-12-07T15:41:01.127753Z",
     "start_time": "2024-12-07T15:41:01.115942Z"
    }
   },
   "cell_type": "code",
   "source": [
    "columns_to_drop = data.columns[data.isna().sum() / len(data) >= 0.9]\n",
    "\n",
    "data.drop(columns=columns_to_drop, axis=1, inplace=True)\n",
    "data"
   ],
   "id": "bbb5d0ce381f8442",
   "outputs": [
    {
     "data": {
      "text/plain": [
       "     0    1    2    4\n",
       "A  1.0  6.5  3.0  2.3\n",
       "B  1.0  NaN  NaN  1.4\n",
       "C  NaN  NaN  2.0  4.5\n",
       "D  NaN  6.5  3.0  3.1\n",
       "E  2.5  8.1  NaN  2.0\n",
       "F  NaN  NaN  1.0  NaN\n",
       "G  2.0  5.2  1.8  2.5\n",
       "H  3.0  2.1  8.1  2.5\n",
       "I  NaN  8.2  NaN  1.9\n",
       "J  2.0  NaN  1.5  7.2"
      ],
      "text/html": [
       "<div>\n",
       "<style scoped>\n",
       "    .dataframe tbody tr th:only-of-type {\n",
       "        vertical-align: middle;\n",
       "    }\n",
       "\n",
       "    .dataframe tbody tr th {\n",
       "        vertical-align: top;\n",
       "    }\n",
       "\n",
       "    .dataframe thead th {\n",
       "        text-align: right;\n",
       "    }\n",
       "</style>\n",
       "<table border=\"1\" class=\"dataframe\">\n",
       "  <thead>\n",
       "    <tr style=\"text-align: right;\">\n",
       "      <th></th>\n",
       "      <th>0</th>\n",
       "      <th>1</th>\n",
       "      <th>2</th>\n",
       "      <th>4</th>\n",
       "    </tr>\n",
       "  </thead>\n",
       "  <tbody>\n",
       "    <tr>\n",
       "      <th>A</th>\n",
       "      <td>1.0</td>\n",
       "      <td>6.5</td>\n",
       "      <td>3.0</td>\n",
       "      <td>2.3</td>\n",
       "    </tr>\n",
       "    <tr>\n",
       "      <th>B</th>\n",
       "      <td>1.0</td>\n",
       "      <td>NaN</td>\n",
       "      <td>NaN</td>\n",
       "      <td>1.4</td>\n",
       "    </tr>\n",
       "    <tr>\n",
       "      <th>C</th>\n",
       "      <td>NaN</td>\n",
       "      <td>NaN</td>\n",
       "      <td>2.0</td>\n",
       "      <td>4.5</td>\n",
       "    </tr>\n",
       "    <tr>\n",
       "      <th>D</th>\n",
       "      <td>NaN</td>\n",
       "      <td>6.5</td>\n",
       "      <td>3.0</td>\n",
       "      <td>3.1</td>\n",
       "    </tr>\n",
       "    <tr>\n",
       "      <th>E</th>\n",
       "      <td>2.5</td>\n",
       "      <td>8.1</td>\n",
       "      <td>NaN</td>\n",
       "      <td>2.0</td>\n",
       "    </tr>\n",
       "    <tr>\n",
       "      <th>F</th>\n",
       "      <td>NaN</td>\n",
       "      <td>NaN</td>\n",
       "      <td>1.0</td>\n",
       "      <td>NaN</td>\n",
       "    </tr>\n",
       "    <tr>\n",
       "      <th>G</th>\n",
       "      <td>2.0</td>\n",
       "      <td>5.2</td>\n",
       "      <td>1.8</td>\n",
       "      <td>2.5</td>\n",
       "    </tr>\n",
       "    <tr>\n",
       "      <th>H</th>\n",
       "      <td>3.0</td>\n",
       "      <td>2.1</td>\n",
       "      <td>8.1</td>\n",
       "      <td>2.5</td>\n",
       "    </tr>\n",
       "    <tr>\n",
       "      <th>I</th>\n",
       "      <td>NaN</td>\n",
       "      <td>8.2</td>\n",
       "      <td>NaN</td>\n",
       "      <td>1.9</td>\n",
       "    </tr>\n",
       "    <tr>\n",
       "      <th>J</th>\n",
       "      <td>2.0</td>\n",
       "      <td>NaN</td>\n",
       "      <td>1.5</td>\n",
       "      <td>7.2</td>\n",
       "    </tr>\n",
       "  </tbody>\n",
       "</table>\n",
       "</div>"
      ]
     },
     "execution_count": 16,
     "metadata": {},
     "output_type": "execute_result"
    }
   ],
   "execution_count": 16
  },
  {
   "metadata": {},
   "cell_type": "markdown",
   "source": "# Time Series",
   "id": "b1725f1ce9b597b5"
  },
  {
   "metadata": {
    "ExecuteTime": {
     "end_time": "2024-12-07T15:41:01.307470Z",
     "start_time": "2024-12-07T15:41:01.303999Z"
    }
   },
   "cell_type": "code",
   "source": [
    "from datetime import *\n",
    "today = date.today()\n",
    "print(today.year, today.month, today.day, today.weekday())"
   ],
   "id": "3469e5a532f6967c",
   "outputs": [
    {
     "name": "stdout",
     "output_type": "stream",
     "text": [
      "2024 12 7 5\n"
     ]
    }
   ],
   "execution_count": 17
  },
  {
   "metadata": {
    "ExecuteTime": {
     "end_time": "2024-12-07T15:41:01.553187Z",
     "start_time": "2024-12-07T15:41:01.549177Z"
    }
   },
   "cell_type": "code",
   "source": [
    "t_now = time(23,14,5,10)\n",
    "t_now"
   ],
   "id": "4f85c4d18be4dcc0",
   "outputs": [
    {
     "data": {
      "text/plain": [
       "datetime.time(23, 14, 5, 10)"
      ]
     },
     "execution_count": 18,
     "metadata": {},
     "output_type": "execute_result"
    }
   ],
   "execution_count": 18
  },
  {
   "metadata": {
    "ExecuteTime": {
     "end_time": "2024-12-07T15:41:01.789971Z",
     "start_time": "2024-12-07T15:41:01.786513Z"
    }
   },
   "cell_type": "code",
   "source": [
    "print(t_now.hour)\n",
    "print(t_now.minute)\n",
    "print(t_now.second)\n",
    "print(t_now.microsecond)"
   ],
   "id": "579324eaebb5e22f",
   "outputs": [
    {
     "name": "stdout",
     "output_type": "stream",
     "text": [
      "23\n",
      "14\n",
      "5\n",
      "10\n"
     ]
    }
   ],
   "execution_count": 19
  },
  {
   "metadata": {
    "ExecuteTime": {
     "end_time": "2024-12-07T15:41:01.865017Z",
     "start_time": "2024-12-07T15:41:01.861614Z"
    }
   },
   "cell_type": "code",
   "source": [
    "now = datetime.now()\n",
    "now"
   ],
   "id": "e97e754f98893db6",
   "outputs": [
    {
     "data": {
      "text/plain": [
       "datetime.datetime(2024, 12, 7, 19, 11, 1, 862850)"
      ]
     },
     "execution_count": 20,
     "metadata": {},
     "output_type": "execute_result"
    }
   ],
   "execution_count": 20
  },
  {
   "metadata": {
    "ExecuteTime": {
     "end_time": "2024-12-07T15:41:01.968742Z",
     "start_time": "2024-12-07T15:41:01.963918Z"
    }
   },
   "cell_type": "code",
   "source": "now.year, now.month, now.day, now.weekday()",
   "id": "cea343faf5ff8ef",
   "outputs": [
    {
     "data": {
      "text/plain": [
       "(2024, 12, 7, 5)"
      ]
     },
     "execution_count": 21,
     "metadata": {},
     "output_type": "execute_result"
    }
   ],
   "execution_count": 21
  },
  {
   "metadata": {
    "ExecuteTime": {
     "end_time": "2024-12-07T15:41:02.073770Z",
     "start_time": "2024-12-07T15:41:02.069747Z"
    }
   },
   "cell_type": "code",
   "source": [
    "t1 = date.today()\n",
    "t2 = date(2025, 5, 6)\n",
    "t2 - t1"
   ],
   "id": "6df0140f80e6ccf2",
   "outputs": [
    {
     "data": {
      "text/plain": [
       "datetime.timedelta(days=150)"
      ]
     },
     "execution_count": 22,
     "metadata": {},
     "output_type": "execute_result"
    }
   ],
   "execution_count": 22
  },
  {
   "metadata": {
    "ExecuteTime": {
     "end_time": "2024-12-07T15:41:02.147241Z",
     "start_time": "2024-12-07T15:41:02.141998Z"
    }
   },
   "cell_type": "code",
   "source": [
    "date_in_string = \"2024-08-03\"\n",
    "\n",
    "date_in_datetime = datetime.strptime(date_in_string,'%Y-%m-%d')\n",
    "date_in_datetime"
   ],
   "id": "292cb147eb762bf6",
   "outputs": [
    {
     "data": {
      "text/plain": [
       "datetime.datetime(2024, 8, 3, 0, 0)"
      ]
     },
     "execution_count": 23,
     "metadata": {},
     "output_type": "execute_result"
    }
   ],
   "execution_count": 23
  },
  {
   "metadata": {
    "ExecuteTime": {
     "end_time": "2024-12-07T15:41:02.262748Z",
     "start_time": "2024-12-07T15:41:02.255003Z"
    }
   },
   "cell_type": "code",
   "source": [
    "times = [datetime(2021,8,24, 12, 24), datetime(2021,9,2, 23, 49), datetime(2021,9,10, 2, 15), datetime(2021,8,30, 16, 35),\\\n",
    "         datetime(2021,9,4, 15, 40), datetime(2021,9,14, 18, 0), datetime(2021,9,12, 21, 0), datetime(2021,9,17, 20, 12),\\\n",
    "         datetime(2021,9,1, 7, 4), datetime(2021,9,10, 14, 20)]\n",
    "\n",
    "df = pd.DataFrame()\n",
    "df['time'] = times\n",
    "df['area'] = [2, 4, 10, 4, 3, 1, 7, 5, 2, 8]\n",
    "print(df)"
   ],
   "id": "9970d2f18a83f35c",
   "outputs": [
    {
     "name": "stdout",
     "output_type": "stream",
     "text": [
      "                 time  area\n",
      "0 2021-08-24 12:24:00     2\n",
      "1 2021-09-02 23:49:00     4\n",
      "2 2021-09-10 02:15:00    10\n",
      "3 2021-08-30 16:35:00     4\n",
      "4 2021-09-04 15:40:00     3\n",
      "5 2021-09-14 18:00:00     1\n",
      "6 2021-09-12 21:00:00     7\n",
      "7 2021-09-17 20:12:00     5\n",
      "8 2021-09-01 07:04:00     2\n",
      "9 2021-09-10 14:20:00     8\n"
     ]
    }
   ],
   "execution_count": 24
  },
  {
   "metadata": {
    "ExecuteTime": {
     "end_time": "2024-12-07T15:41:02.342057Z",
     "start_time": "2024-12-07T15:41:02.333781Z"
    }
   },
   "cell_type": "code",
   "source": [
    "dawn = time(hour=7,minute=0,second=0)\n",
    "morning = time(hour=11,minute=0,second=0)\n",
    "noon = time(hour=15,minute=0,second=0)\n",
    "afternoon = time(hour=19,minute=0,second=0)\n",
    "\n",
    "def discretize_time (time) :\n",
    "  if time.time() < dawn : \n",
    "    return \"dawn\"\n",
    "  elif time.time() < morning :\n",
    "    return \"morning\"\n",
    "  elif time.time() < noon :\n",
    "    return \"noon\"\n",
    "  elif time.time() < afternoon :\n",
    "    return \"afternoon\"\n",
    "  else : return \"night\"\n",
    "\n",
    "df['time'] = df.time.apply(discretize_time)\n",
    "df"
   ],
   "id": "67f23faec29d0b67",
   "outputs": [
    {
     "data": {
      "text/plain": [
       "        time  area\n",
       "0       noon     2\n",
       "1      night     4\n",
       "2       dawn    10\n",
       "3  afternoon     4\n",
       "4  afternoon     3\n",
       "5  afternoon     1\n",
       "6      night     7\n",
       "7      night     5\n",
       "8    morning     2\n",
       "9       noon     8"
      ],
      "text/html": [
       "<div>\n",
       "<style scoped>\n",
       "    .dataframe tbody tr th:only-of-type {\n",
       "        vertical-align: middle;\n",
       "    }\n",
       "\n",
       "    .dataframe tbody tr th {\n",
       "        vertical-align: top;\n",
       "    }\n",
       "\n",
       "    .dataframe thead th {\n",
       "        text-align: right;\n",
       "    }\n",
       "</style>\n",
       "<table border=\"1\" class=\"dataframe\">\n",
       "  <thead>\n",
       "    <tr style=\"text-align: right;\">\n",
       "      <th></th>\n",
       "      <th>time</th>\n",
       "      <th>area</th>\n",
       "    </tr>\n",
       "  </thead>\n",
       "  <tbody>\n",
       "    <tr>\n",
       "      <th>0</th>\n",
       "      <td>noon</td>\n",
       "      <td>2</td>\n",
       "    </tr>\n",
       "    <tr>\n",
       "      <th>1</th>\n",
       "      <td>night</td>\n",
       "      <td>4</td>\n",
       "    </tr>\n",
       "    <tr>\n",
       "      <th>2</th>\n",
       "      <td>dawn</td>\n",
       "      <td>10</td>\n",
       "    </tr>\n",
       "    <tr>\n",
       "      <th>3</th>\n",
       "      <td>afternoon</td>\n",
       "      <td>4</td>\n",
       "    </tr>\n",
       "    <tr>\n",
       "      <th>4</th>\n",
       "      <td>afternoon</td>\n",
       "      <td>3</td>\n",
       "    </tr>\n",
       "    <tr>\n",
       "      <th>5</th>\n",
       "      <td>afternoon</td>\n",
       "      <td>1</td>\n",
       "    </tr>\n",
       "    <tr>\n",
       "      <th>6</th>\n",
       "      <td>night</td>\n",
       "      <td>7</td>\n",
       "    </tr>\n",
       "    <tr>\n",
       "      <th>7</th>\n",
       "      <td>night</td>\n",
       "      <td>5</td>\n",
       "    </tr>\n",
       "    <tr>\n",
       "      <th>8</th>\n",
       "      <td>morning</td>\n",
       "      <td>2</td>\n",
       "    </tr>\n",
       "    <tr>\n",
       "      <th>9</th>\n",
       "      <td>noon</td>\n",
       "      <td>8</td>\n",
       "    </tr>\n",
       "  </tbody>\n",
       "</table>\n",
       "</div>"
      ]
     },
     "execution_count": 25,
     "metadata": {},
     "output_type": "execute_result"
    }
   ],
   "execution_count": 25
  },
  {
   "metadata": {},
   "cell_type": "markdown",
   "source": "# cut in strings",
   "id": "99eb44d6e05a9065"
  },
  {
   "metadata": {
    "ExecuteTime": {
     "end_time": "2024-12-07T15:41:02.412728Z",
     "start_time": "2024-12-07T15:41:02.406836Z"
    }
   },
   "cell_type": "code",
   "source": [
    "df = pd.DataFrame()\n",
    "df['name'] = [\"helma\",\"sajede\",\"ali\",\"hossein\",\"mohsen\",\"haniye\",\"hasan\",\"sajjad\"]\n",
    "df['age'] = [5, 15, 12, 60, 35, 17, 71, 23]\n",
    "print(df)"
   ],
   "id": "96f6d4137b657e58",
   "outputs": [
    {
     "name": "stdout",
     "output_type": "stream",
     "text": [
      "      name  age\n",
      "0    helma    5\n",
      "1   sajede   15\n",
      "2      ali   12\n",
      "3  hossein   60\n",
      "4   mohsen   35\n",
      "5   haniye   17\n",
      "6    hasan   71\n",
      "7   sajjad   23\n"
     ]
    }
   ],
   "execution_count": 26
  },
  {
   "metadata": {
    "ExecuteTime": {
     "end_time": "2024-12-07T15:41:02.481559Z",
     "start_time": "2024-12-07T15:41:02.473307Z"
    }
   },
   "cell_type": "code",
   "source": [
    "bins = [1, 11, 18, 35, 50, 100]\n",
    "labels = [\"child\", \"teenager\", \"young\", \"middle_aged\", \"old\"]\n",
    "df['age'] = pd.cut(df.age, bins, labels=labels)\n",
    "df"
   ],
   "id": "2fe12294b12b811f",
   "outputs": [
    {
     "data": {
      "text/plain": [
       "      name       age\n",
       "0    helma     child\n",
       "1   sajede  teenager\n",
       "2      ali  teenager\n",
       "3  hossein       old\n",
       "4   mohsen     young\n",
       "5   haniye  teenager\n",
       "6    hasan       old\n",
       "7   sajjad     young"
      ],
      "text/html": [
       "<div>\n",
       "<style scoped>\n",
       "    .dataframe tbody tr th:only-of-type {\n",
       "        vertical-align: middle;\n",
       "    }\n",
       "\n",
       "    .dataframe tbody tr th {\n",
       "        vertical-align: top;\n",
       "    }\n",
       "\n",
       "    .dataframe thead th {\n",
       "        text-align: right;\n",
       "    }\n",
       "</style>\n",
       "<table border=\"1\" class=\"dataframe\">\n",
       "  <thead>\n",
       "    <tr style=\"text-align: right;\">\n",
       "      <th></th>\n",
       "      <th>name</th>\n",
       "      <th>age</th>\n",
       "    </tr>\n",
       "  </thead>\n",
       "  <tbody>\n",
       "    <tr>\n",
       "      <th>0</th>\n",
       "      <td>helma</td>\n",
       "      <td>child</td>\n",
       "    </tr>\n",
       "    <tr>\n",
       "      <th>1</th>\n",
       "      <td>sajede</td>\n",
       "      <td>teenager</td>\n",
       "    </tr>\n",
       "    <tr>\n",
       "      <th>2</th>\n",
       "      <td>ali</td>\n",
       "      <td>teenager</td>\n",
       "    </tr>\n",
       "    <tr>\n",
       "      <th>3</th>\n",
       "      <td>hossein</td>\n",
       "      <td>old</td>\n",
       "    </tr>\n",
       "    <tr>\n",
       "      <th>4</th>\n",
       "      <td>mohsen</td>\n",
       "      <td>young</td>\n",
       "    </tr>\n",
       "    <tr>\n",
       "      <th>5</th>\n",
       "      <td>haniye</td>\n",
       "      <td>teenager</td>\n",
       "    </tr>\n",
       "    <tr>\n",
       "      <th>6</th>\n",
       "      <td>hasan</td>\n",
       "      <td>old</td>\n",
       "    </tr>\n",
       "    <tr>\n",
       "      <th>7</th>\n",
       "      <td>sajjad</td>\n",
       "      <td>young</td>\n",
       "    </tr>\n",
       "  </tbody>\n",
       "</table>\n",
       "</div>"
      ]
     },
     "execution_count": 27,
     "metadata": {},
     "output_type": "execute_result"
    }
   ],
   "execution_count": 27
  },
  {
   "metadata": {},
   "cell_type": "markdown",
   "source": "# new part 2024/12/2",
   "id": "4e2a4400b604c354"
  },
  {
   "metadata": {
    "ExecuteTime": {
     "end_time": "2024-12-07T15:41:02.724715Z",
     "start_time": "2024-12-07T15:41:02.701186Z"
    }
   },
   "cell_type": "code",
   "source": [
    "import numpy as np\n",
    "import pandas as pd\n",
    "import matplotlib.pyplot as plt\n",
    "\n",
    "df = pd.read_csv('data7.csv')\n",
    "df.describe()\n"
   ],
   "id": "b533c53b2095b115",
   "outputs": [
    {
     "data": {
      "text/plain": [
       "         Duration  Average_Pulse   Max_Pulse  Calorie_Burnage  Hours_Work  \\\n",
       "count  163.000000     163.000000  163.000000       163.000000  163.000000   \n",
       "mean    64.263804     107.723926  134.226994       382.368098    4.386503   \n",
       "std     42.994520      14.625062   16.403967       274.227106    3.923772   \n",
       "min     15.000000      80.000000  100.000000        50.000000    0.000000   \n",
       "25%     45.000000     100.000000  124.000000       256.500000    0.000000   \n",
       "50%     60.000000     105.000000  131.000000       320.000000    5.000000   \n",
       "75%     60.000000     111.000000  141.000000       388.500000    8.000000   \n",
       "max    300.000000     159.000000  184.000000      1860.000000   11.000000   \n",
       "\n",
       "       Hours_Sleep  \n",
       "count   163.000000  \n",
       "mean      7.680982  \n",
       "std       0.663934  \n",
       "min       5.000000  \n",
       "25%       7.500000  \n",
       "50%       8.000000  \n",
       "75%       8.000000  \n",
       "max      12.000000  "
      ],
      "text/html": [
       "<div>\n",
       "<style scoped>\n",
       "    .dataframe tbody tr th:only-of-type {\n",
       "        vertical-align: middle;\n",
       "    }\n",
       "\n",
       "    .dataframe tbody tr th {\n",
       "        vertical-align: top;\n",
       "    }\n",
       "\n",
       "    .dataframe thead th {\n",
       "        text-align: right;\n",
       "    }\n",
       "</style>\n",
       "<table border=\"1\" class=\"dataframe\">\n",
       "  <thead>\n",
       "    <tr style=\"text-align: right;\">\n",
       "      <th></th>\n",
       "      <th>Duration</th>\n",
       "      <th>Average_Pulse</th>\n",
       "      <th>Max_Pulse</th>\n",
       "      <th>Calorie_Burnage</th>\n",
       "      <th>Hours_Work</th>\n",
       "      <th>Hours_Sleep</th>\n",
       "    </tr>\n",
       "  </thead>\n",
       "  <tbody>\n",
       "    <tr>\n",
       "      <th>count</th>\n",
       "      <td>163.000000</td>\n",
       "      <td>163.000000</td>\n",
       "      <td>163.000000</td>\n",
       "      <td>163.000000</td>\n",
       "      <td>163.000000</td>\n",
       "      <td>163.000000</td>\n",
       "    </tr>\n",
       "    <tr>\n",
       "      <th>mean</th>\n",
       "      <td>64.263804</td>\n",
       "      <td>107.723926</td>\n",
       "      <td>134.226994</td>\n",
       "      <td>382.368098</td>\n",
       "      <td>4.386503</td>\n",
       "      <td>7.680982</td>\n",
       "    </tr>\n",
       "    <tr>\n",
       "      <th>std</th>\n",
       "      <td>42.994520</td>\n",
       "      <td>14.625062</td>\n",
       "      <td>16.403967</td>\n",
       "      <td>274.227106</td>\n",
       "      <td>3.923772</td>\n",
       "      <td>0.663934</td>\n",
       "    </tr>\n",
       "    <tr>\n",
       "      <th>min</th>\n",
       "      <td>15.000000</td>\n",
       "      <td>80.000000</td>\n",
       "      <td>100.000000</td>\n",
       "      <td>50.000000</td>\n",
       "      <td>0.000000</td>\n",
       "      <td>5.000000</td>\n",
       "    </tr>\n",
       "    <tr>\n",
       "      <th>25%</th>\n",
       "      <td>45.000000</td>\n",
       "      <td>100.000000</td>\n",
       "      <td>124.000000</td>\n",
       "      <td>256.500000</td>\n",
       "      <td>0.000000</td>\n",
       "      <td>7.500000</td>\n",
       "    </tr>\n",
       "    <tr>\n",
       "      <th>50%</th>\n",
       "      <td>60.000000</td>\n",
       "      <td>105.000000</td>\n",
       "      <td>131.000000</td>\n",
       "      <td>320.000000</td>\n",
       "      <td>5.000000</td>\n",
       "      <td>8.000000</td>\n",
       "    </tr>\n",
       "    <tr>\n",
       "      <th>75%</th>\n",
       "      <td>60.000000</td>\n",
       "      <td>111.000000</td>\n",
       "      <td>141.000000</td>\n",
       "      <td>388.500000</td>\n",
       "      <td>8.000000</td>\n",
       "      <td>8.000000</td>\n",
       "    </tr>\n",
       "    <tr>\n",
       "      <th>max</th>\n",
       "      <td>300.000000</td>\n",
       "      <td>159.000000</td>\n",
       "      <td>184.000000</td>\n",
       "      <td>1860.000000</td>\n",
       "      <td>11.000000</td>\n",
       "      <td>12.000000</td>\n",
       "    </tr>\n",
       "  </tbody>\n",
       "</table>\n",
       "</div>"
      ]
     },
     "execution_count": 28,
     "metadata": {},
     "output_type": "execute_result"
    }
   ],
   "execution_count": 28
  },
  {
   "metadata": {
    "ExecuteTime": {
     "end_time": "2024-12-07T15:41:02.870197Z",
     "start_time": "2024-12-07T15:41:02.854843Z"
    }
   },
   "cell_type": "code",
   "source": "print(df.info())",
   "id": "55a1b270681e1c6c",
   "outputs": [
    {
     "name": "stdout",
     "output_type": "stream",
     "text": [
      "<class 'pandas.core.frame.DataFrame'>\n",
      "RangeIndex: 163 entries, 0 to 162\n",
      "Data columns (total 6 columns):\n",
      " #   Column           Non-Null Count  Dtype  \n",
      "---  ------           --------------  -----  \n",
      " 0   Duration         163 non-null    int64  \n",
      " 1   Average_Pulse    163 non-null    int64  \n",
      " 2   Max_Pulse        163 non-null    int64  \n",
      " 3   Calorie_Burnage  163 non-null    int64  \n",
      " 4   Hours_Work       163 non-null    float64\n",
      " 5   Hours_Sleep      163 non-null    float64\n",
      "dtypes: float64(2), int64(4)\n",
      "memory usage: 7.8 KB\n",
      "None\n"
     ]
    }
   ],
   "execution_count": 29
  },
  {
   "metadata": {
    "ExecuteTime": {
     "end_time": "2024-12-07T15:41:03.100939Z",
     "start_time": "2024-12-07T15:41:03.097441Z"
    }
   },
   "cell_type": "code",
   "source": [
    "#Find the 10% percentile for Max_Pulse\n",
    "max_pulse = df['Max_Pulse']\n",
    "percentile_10 = np.percentile(max_pulse, 10)\n",
    "print(percentile_10)"
   ],
   "id": "df0358fd3abb269",
   "outputs": [
    {
     "name": "stdout",
     "output_type": "stream",
     "text": [
      "120.0\n"
     ]
    }
   ],
   "execution_count": 30
  },
  {
   "metadata": {
    "ExecuteTime": {
     "end_time": "2024-12-07T15:41:03.256230Z",
     "start_time": "2024-12-07T15:41:03.252082Z"
    }
   },
   "cell_type": "code",
   "source": [
    "# Find the Variance of Full Data Set\n",
    "variance_data = np.var(df, axis=0)\n",
    "print(variance_data)"
   ],
   "id": "9d5e49bcc1a8d177",
   "outputs": [
    {
     "name": "stdout",
     "output_type": "stream",
     "text": [
      "Duration            1837.188076\n",
      "Average_Pulse        212.580225\n",
      "Max_Pulse            267.439271\n",
      "Calorie_Burnage    74739.152847\n",
      "Hours_Work            15.301536\n",
      "Hours_Sleep            0.438105\n",
      "dtype: float64\n"
     ]
    }
   ],
   "execution_count": 31
  },
  {
   "metadata": {
    "ExecuteTime": {
     "end_time": "2024-12-07T15:41:03.827657Z",
     "start_time": "2024-12-07T15:41:03.376818Z"
    }
   },
   "cell_type": "code",
   "source": [
    "import seaborn as sns\n",
    "import matplotlib.pyplot as plt\n",
    "\n",
    "# محاسبه ماتریس همبستگی\n",
    "correlation_matrix = df.corr()\n",
    "\n",
    "plt.figure(figsize=(8, 6))\n",
    "sns.heatmap(correlation_matrix, annot=True, cmap='coolwarm', fmt=\".2f\", linewidths=0.5)\n",
    "plt.title(\"Heatmap of Correlation\")\n",
    "plt.show()\n"
   ],
   "id": "797110bd94684715",
   "outputs": [
    {
     "data": {
      "text/plain": [
       "<Figure size 800x600 with 2 Axes>"
      ],
      "image/png": "[encoded data removed]"
     },
     "metadata": {},
     "output_type": "display_data"
    }
   ],
   "execution_count": 32
  },
  {
   "metadata": {
    "ExecuteTime": {
     "end_time": "2024-12-07T15:41:09.450533Z",
     "start_time": "2024-12-07T15:41:03.847534Z"
    }
   },
   "cell_type": "code",
   "source": [
    "sns.pairplot(df, diag_kind='kde', corner=True, plot_kws={'alpha': 0.7})\n",
    "\n",
    "# نمایش نمودار\n",
    "plt.suptitle(\"Scatter Plot Matrix\", y=1.02)  # عنوان کلی\n",
    "plt.show()"
   ],
   "id": "18c09c1a6a41459f",
   "outputs": [
    {
     "data": {
      "text/plain": [
       "<Figure size 1500x1500 with 27 Axes>"
      ],
      "image/png": "[encoded data removed]"
     },
     "metadata": {},
     "output_type": "display_data"
    }
   ],
   "execution_count": 33
  },
  {
   "metadata": {
    "ExecuteTime": {
     "end_time": "2024-12-07T15:41:09.925053Z",
     "start_time": "2024-12-07T15:41:09.515842Z"
    }
   },
   "cell_type": "code",
   "source": [
    "import pandas as pd\n",
    "import statsmodels.formula.api as smf\n",
    "\n",
    "full_health_data = pd.read_csv(\"data7.csv\", header=0, sep=\",\")\n",
    "\n",
    "model = smf.ols('Calorie_Burnage ~ Average_Pulse', data = full_health_data)\n",
    "results = model.fit()\n",
    "print(results.summary())\n"
   ],
   "id": "8bd40a4c85e199ab",
   "outputs": [
    {
     "name": "stdout",
     "output_type": "stream",
     "text": [
      "                            OLS Regression Results                            \n",
      "==============================================================================\n",
      "Dep. Variable:        Calorie_Burnage   R-squared:                       0.000\n",
      "Model:                            OLS   Adj. R-squared:                 -0.006\n",
      "Method:                 Least Squares   F-statistic:                   0.04975\n",
      "Date:                Sat, 07 Dec 2024   Prob (F-statistic):              0.824\n",
      "Time:                        19:11:09   Log-Likelihood:                -1145.8\n",
      "No. Observations:                 163   AIC:                             2296.\n",
      "Df Residuals:                     161   BIC:                             2302.\n",
      "Df Model:                           1                                         \n",
      "Covariance Type:            nonrobust                                         \n",
      "=================================================================================\n",
      "                    coef    std err          t      P>|t|      [0.025      0.975]\n",
      "---------------------------------------------------------------------------------\n",
      "Intercept       346.8662    160.615      2.160      0.032      29.682     664.050\n",
      "Average_Pulse     0.3296      1.478      0.223      0.824      -2.588       3.247\n",
      "==============================================================================\n",
      "Omnibus:                      124.542   Durbin-Watson:                   1.620\n",
      "Prob(Omnibus):                  0.000   Jarque-Bera (JB):              938.541\n",
      "Skew:                           2.927   Prob(JB):                    1.58e-204\n",
      "Kurtosis:                      13.195   Cond. No.                         811.\n",
      "==============================================================================\n",
      "\n",
      "Notes:\n",
      "[1] Standard Errors assume that the covariance matrix of the errors is correctly specified.\n"
     ]
    }
   ],
   "execution_count": 34
  },
  {
   "metadata": {},
   "cell_type": "markdown",
   "source": [
    "\n",
    "\n",
    "### **Output Analysis:**\n",
    "1. **R-squared (Coefficient of Determination):**  \n",
    "   The value is **0.000**, indicating that the model explains virtually none of the variance in **Calorie_Burnage**. This means **Average_Pulse** has no meaningful predictive power for this variable.\n",
    "\n",
    "2. **Adj. R-squared (Adjusted R-squared):**  \n",
    "   The value is **-0.006**, which suggests that adding this predictor does not improve the model, and it may even degrade its performance.\n",
    "\n",
    "3. **P-value for Average_Pulse:**  \n",
    "   The **P>|t|** value is **0.824**, which is far above the standard significance level (0.05). This indicates that **Average_Pulse** is not a statistically significant predictor of **Calorie_Burnage**.\n",
    "\n",
    "4. **Intercept:**  \n",
    "   The intercept value is **346.8662**, meaning that when **Average_Pulse** is zero (which might not be a realistic scenario), the predicted value of **Calorie_Burnage** is approximately this value.\n",
    "\n",
    "5. **F-statistic and Prob (F-statistic):**  \n",
    "   The F-statistic is **0.04975**, with a corresponding p-value of **0.824**, showing that the model as a whole is not statistically significant.\n",
    "\n",
    "6. **Normality Indicators (Omnibus, Jarque-Bera):**  \n",
    "   The Omnibus test and Jarque-Bera test indicate that the residuals are not normally distributed (Prob(Omnibus) = **0.000**).\n",
    "\n",
    "7. **Durbin-Watson:**  \n",
    "   The value is **1.620**, which suggests some level of independence in the residuals, though it is not ideal.\n"
   ],
   "id": "bb30a00241d325b7"
  },
  {
   "metadata": {
    "ExecuteTime": {
     "end_time": "2024-12-07T15:41:10.375714Z",
     "start_time": "2024-12-07T15:41:10.031982Z"
    }
   },
   "cell_type": "code",
   "source": [
    "import pandas as pd\n",
    "import matplotlib.pyplot as plt\n",
    "from scipy import stats\n",
    "\n",
    "full_health_data = pd.read_csv(\"data7.csv\", header=0, sep=\",\")\n",
    "\n",
    "x = full_health_data[\"Duration\"]\n",
    "y = full_health_data [\"Calorie_Burnage\"]\n",
    "\n",
    "slope, intercept, r, p, std_err = stats.linregress(x, y)\n",
    "\n",
    "def myfunc(x):\n",
    " return slope * x + intercept\n",
    "\n",
    "mymodel = list(map(myfunc, x))\n",
    "\n",
    "plt.scatter(x, y)\n",
    "plt.plot(x, mymodel)\n",
    "plt.ylim(ymin=0, ymax=2000)\n",
    "plt.xlim(xmin=0, xmax=200)\n",
    "plt.xlabel(\"Duration\")\n",
    "plt.ylabel (\"Calorie_Burnage\")\n",
    "\n",
    "plt.show()"
   ],
   "id": "69a2791f90032319",
   "outputs": [
    {
     "data": {
      "text/plain": [
       "<Figure size 640x480 with 1 Axes>"
      ],
      "image/png": "[encoded data removed]"
     },
     "metadata": {},
     "output_type": "display_data"
    }
   ],
   "execution_count": 35
  },
  {
   "metadata": {
    "ExecuteTime": {
     "end_time": "2024-12-07T16:07:38.400556Z",
     "start_time": "2024-12-07T16:07:38.387697Z"
    }
   },
   "cell_type": "code",
   "source": [
    "import numpy as np\n",
    "import pandas as pd\n",
    "data = pd.read_csv(\"data7.csv\")\n",
    "\n",
    "np.cov(data.Duration, data.Calorie_Burnage)"
   ],
   "id": "5ac3f329c6de707c",
   "outputs": [
    {
     "data": {
      "text/plain": [
       "array([[ 1848.52874347, 10470.39612209],\n",
       "       [10470.39612209, 75200.50564266]])"
      ]
     },
     "execution_count": 43,
     "metadata": {},
     "output_type": "execute_result"
    }
   ],
   "execution_count": 43
  },
  {
   "metadata": {},
   "cell_type": "markdown",
   "source": "# **predict by using ols model** #",
   "id": "e9f503383a91bff3"
  },
  {
   "metadata": {
    "ExecuteTime": {
     "end_time": "2024-12-07T15:44:26.900470Z",
     "start_time": "2024-12-07T15:44:26.805725Z"
    }
   },
   "cell_type": "code",
   "source": [
    "import pandas as pd\n",
    "import statsmodels.formula.api as smf\n",
    "\n",
    "full_health_data = pd.read_csv(\"data7.csv\", header=0, sep=\",\")\n",
    "\n",
    "model = smf.ols('Calorie_Burnage ~ Average_Pulse + Duration', data = full_health_data)\n",
    "results = model.fit()\n",
    "print(results.summary())\n"
   ],
   "id": "595275b89a6b2e96",
   "outputs": [
    {
     "name": "stdout",
     "output_type": "stream",
     "text": [
      "                            OLS Regression Results                            \n",
      "==============================================================================\n",
      "Dep. Variable:        Calorie_Burnage   R-squared:                       0.816\n",
      "Model:                            OLS   Adj. R-squared:                  0.814\n",
      "Method:                 Least Squares   F-statistic:                     355.8\n",
      "Date:                Sat, 07 Dec 2024   Prob (F-statistic):           1.27e-59\n",
      "Time:                        19:14:26   Log-Likelihood:                -1007.7\n",
      "No. Observations:                 163   AIC:                             2021.\n",
      "Df Residuals:                     160   BIC:                             2031.\n",
      "Df Model:                           2                                         \n",
      "Covariance Type:            nonrobust                                         \n",
      "=================================================================================\n",
      "                    coef    std err          t      P>|t|      [0.025      0.975]\n",
      "---------------------------------------------------------------------------------\n",
      "Intercept      -334.5194     73.616     -4.544      0.000    -479.904    -189.135\n",
      "Average_Pulse     3.1695      0.644      4.922      0.000       1.898       4.441\n",
      "Duration          5.8424      0.219     26.671      0.000       5.410       6.275\n",
      "==============================================================================\n",
      "Omnibus:                      160.167   Durbin-Watson:                   2.339\n",
      "Prob(Omnibus):                  0.000   Jarque-Bera (JB):             5096.292\n",
      "Skew:                           3.383   Prob(JB):                         0.00\n",
      "Kurtosis:                      29.544   Cond. No.                     1.02e+03\n",
      "==============================================================================\n",
      "\n",
      "Notes:\n",
      "[1] Standard Errors assume that the covariance matrix of the errors is correctly specified.\n",
      "[2] The condition number is large, 1.02e+03. This might indicate that there are\n",
      "strong multicollinearity or other numerical problems.\n"
     ]
    }
   ],
   "execution_count": 36
  },
  {
   "metadata": {
    "ExecuteTime": {
     "end_time": "2024-12-07T15:46:28.561133Z",
     "start_time": "2024-12-07T15:46:28.553139Z"
    }
   },
   "cell_type": "code",
   "source": [
    "#prediction\n",
    "def Predict_Calorie_Burnage(Average_Pulse, Duration):\n",
    " return(3.1695 * Average_Pulse + 5.8434 * Duration - 334.5194)\n",
    "\n",
    "print('calories burnage: ',Predict_Calorie_Burnage(110,60))\n",
    "print('calories burnage: ',Predict_Calorie_Burnage(140,45))\n",
    "print('calories burnage: ',Predict_Calorie_Burnage(175,20))\n"
   ],
   "id": "60827694e6102191",
   "outputs": [
    {
     "name": "stdout",
     "output_type": "stream",
     "text": [
      "calories burnage:  364.7296\n",
      "calories burnage:  372.1636\n",
      "calories burnage:  337.01110000000006\n"
     ]
    }
   ],
   "execution_count": 38
  }
 ],
 "metadata": {
  "kernelspec": {
   "display_name": "Python 3",
   "language": "python",
   "name": "python3"
  },
  "language_info": {
   "codemirror_mode": {
    "name": "ipython",
    "version": 2
   },
   "file_extension": ".py",
   "mimetype": "text/x-python",
   "name": "python",
   "nbconvert_exporter": "python",
   "pygments_lexer": "ipython2",
   "version": "2.7.6"
  }
 },
 "nbformat": 4,
 "nbformat_minor": 5
}
