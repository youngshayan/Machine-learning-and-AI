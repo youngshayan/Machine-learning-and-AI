{
 "cells": [
  {
   "metadata": {},
   "cell_type": "markdown",
   "source": "# **Heart Disease Prediction Using Logistic Regression**",
   "id": "3e5d0149aba2316"
  },
  {
   "metadata": {},
   "cell_type": "markdown",
   "source": "# Importing libraries",
   "id": "f7485b8d7d23a2dd"
  },
  {
   "cell_type": "code",
   "id": "initial_id",
   "metadata": {
    "collapsed": true,
    "ExecuteTime": {
     "end_time": "2025-08-16T10:28:36.199634Z",
     "start_time": "2025-08-16T10:28:36.195634Z"
    }
   },
   "source": [
    "import numpy as np\n",
    "import pandas as pd\n",
    "import matplotlib.pyplot as plt\n",
    "import seaborn as sns\n",
    "from sklearn.linear_model import LogisticRegression"
   ],
   "outputs": [],
   "execution_count": 37
  },
  {
   "metadata": {},
   "cell_type": "markdown",
   "source": "# Read the data and manipulation",
   "id": "e110a40fa4c3ffb3"
  },
  {
   "metadata": {
    "ExecuteTime": {
     "end_time": "2025-08-16T10:28:36.242113Z",
     "start_time": "2025-08-16T10:28:36.220117Z"
    }
   },
   "cell_type": "code",
   "source": [
    "df = pd.read_csv('data/framingham.csv')\n",
    "df.head()"
   ],
   "id": "9b930a78038d44b5",
   "outputs": [
    {
     "data": {
      "text/plain": [
       "   male  age  education  currentSmoker  cigsPerDay  BPMeds  prevalentStroke  \\\n",
       "0     1   39        4.0              0         0.0     0.0                0   \n",
       "1     0   46        2.0              0         0.0     0.0                0   \n",
       "2     1   48        1.0              1        20.0     0.0                0   \n",
       "3     0   61        3.0              1        30.0     0.0                0   \n",
       "4     0   46        3.0              1        23.0     0.0                0   \n",
       "\n",
       "   prevalentHyp  diabetes  totChol  sysBP  diaBP    BMI  heartRate  glucose  \\\n",
       "0             0         0    195.0  106.0   70.0  26.97       80.0     77.0   \n",
       "1             0         0    250.0  121.0   81.0  28.73       95.0     76.0   \n",
       "2             0         0    245.0  127.5   80.0  25.34       75.0     70.0   \n",
       "3             1         0    225.0  150.0   95.0  28.58       65.0    103.0   \n",
       "4             0         0    285.0  130.0   84.0  23.10       85.0     85.0   \n",
       "\n",
       "   TenYearCHD  \n",
       "0           0  \n",
       "1           0  \n",
       "2           0  \n",
       "3           1  \n",
       "4           0  "
      ],
      "text/html": [
       "<div>\n",
       "<style scoped>\n",
       "    .dataframe tbody tr th:only-of-type {\n",
       "        vertical-align: middle;\n",
       "    }\n",
       "\n",
       "    .dataframe tbody tr th {\n",
       "        vertical-align: top;\n",
       "    }\n",
       "\n",
       "    .dataframe thead th {\n",
       "        text-align: right;\n",
       "    }\n",
       "</style>\n",
       "<table border=\"1\" class=\"dataframe\">\n",
       "  <thead>\n",
       "    <tr style=\"text-align: right;\">\n",
       "      <th></th>\n",
       "      <th>male</th>\n",
       "      <th>age</th>\n",
       "      <th>education</th>\n",
       "      <th>currentSmoker</th>\n",
       "      <th>cigsPerDay</th>\n",
       "      <th>BPMeds</th>\n",
       "      <th>prevalentStroke</th>\n",
       "      <th>prevalentHyp</th>\n",
       "      <th>diabetes</th>\n",
       "      <th>totChol</th>\n",
       "      <th>sysBP</th>\n",
       "      <th>diaBP</th>\n",
       "      <th>BMI</th>\n",
       "      <th>heartRate</th>\n",
       "      <th>glucose</th>\n",
       "      <th>TenYearCHD</th>\n",
       "    </tr>\n",
       "  </thead>\n",
       "  <tbody>\n",
       "    <tr>\n",
       "      <th>0</th>\n",
       "      <td>1</td>\n",
       "      <td>39</td>\n",
       "      <td>4.0</td>\n",
       "      <td>0</td>\n",
       "      <td>0.0</td>\n",
       "      <td>0.0</td>\n",
       "      <td>0</td>\n",
       "      <td>0</td>\n",
       "      <td>0</td>\n",
       "      <td>195.0</td>\n",
       "      <td>106.0</td>\n",
       "      <td>70.0</td>\n",
       "      <td>26.97</td>\n",
       "      <td>80.0</td>\n",
       "      <td>77.0</td>\n",
       "      <td>0</td>\n",
       "    </tr>\n",
       "    <tr>\n",
       "      <th>1</th>\n",
       "      <td>0</td>\n",
       "      <td>46</td>\n",
       "      <td>2.0</td>\n",
       "      <td>0</td>\n",
       "      <td>0.0</td>\n",
       "      <td>0.0</td>\n",
       "      <td>0</td>\n",
       "      <td>0</td>\n",
       "      <td>0</td>\n",
       "      <td>250.0</td>\n",
       "      <td>121.0</td>\n",
       "      <td>81.0</td>\n",
       "      <td>28.73</td>\n",
       "      <td>95.0</td>\n",
       "      <td>76.0</td>\n",
       "      <td>0</td>\n",
       "    </tr>\n",
       "    <tr>\n",
       "      <th>2</th>\n",
       "      <td>1</td>\n",
       "      <td>48</td>\n",
       "      <td>1.0</td>\n",
       "      <td>1</td>\n",
       "      <td>20.0</td>\n",
       "      <td>0.0</td>\n",
       "      <td>0</td>\n",
       "      <td>0</td>\n",
       "      <td>0</td>\n",
       "      <td>245.0</td>\n",
       "      <td>127.5</td>\n",
       "      <td>80.0</td>\n",
       "      <td>25.34</td>\n",
       "      <td>75.0</td>\n",
       "      <td>70.0</td>\n",
       "      <td>0</td>\n",
       "    </tr>\n",
       "    <tr>\n",
       "      <th>3</th>\n",
       "      <td>0</td>\n",
       "      <td>61</td>\n",
       "      <td>3.0</td>\n",
       "      <td>1</td>\n",
       "      <td>30.0</td>\n",
       "      <td>0.0</td>\n",
       "      <td>0</td>\n",
       "      <td>1</td>\n",
       "      <td>0</td>\n",
       "      <td>225.0</td>\n",
       "      <td>150.0</td>\n",
       "      <td>95.0</td>\n",
       "      <td>28.58</td>\n",
       "      <td>65.0</td>\n",
       "      <td>103.0</td>\n",
       "      <td>1</td>\n",
       "    </tr>\n",
       "    <tr>\n",
       "      <th>4</th>\n",
       "      <td>0</td>\n",
       "      <td>46</td>\n",
       "      <td>3.0</td>\n",
       "      <td>1</td>\n",
       "      <td>23.0</td>\n",
       "      <td>0.0</td>\n",
       "      <td>0</td>\n",
       "      <td>0</td>\n",
       "      <td>0</td>\n",
       "      <td>285.0</td>\n",
       "      <td>130.0</td>\n",
       "      <td>84.0</td>\n",
       "      <td>23.10</td>\n",
       "      <td>85.0</td>\n",
       "      <td>85.0</td>\n",
       "      <td>0</td>\n",
       "    </tr>\n",
       "  </tbody>\n",
       "</table>\n",
       "</div>"
      ]
     },
     "execution_count": 38,
     "metadata": {},
     "output_type": "execute_result"
    }
   ],
   "execution_count": 38
  },
  {
   "metadata": {
    "ExecuteTime": {
     "end_time": "2025-08-16T10:28:36.290199Z",
     "start_time": "2025-08-16T10:28:36.282745Z"
    }
   },
   "cell_type": "code",
   "source": "df.info()",
   "id": "d68e5bafe5ad616e",
   "outputs": [
    {
     "name": "stdout",
     "output_type": "stream",
     "text": [
      "<class 'pandas.core.frame.DataFrame'>\n",
      "RangeIndex: 4240 entries, 0 to 4239\n",
      "Data columns (total 16 columns):\n",
      " #   Column           Non-Null Count  Dtype  \n",
      "---  ------           --------------  -----  \n",
      " 0   male             4240 non-null   int64  \n",
      " 1   age              4240 non-null   int64  \n",
      " 2   education        4135 non-null   float64\n",
      " 3   currentSmoker    4240 non-null   int64  \n",
      " 4   cigsPerDay       4211 non-null   float64\n",
      " 5   BPMeds           4187 non-null   float64\n",
      " 6   prevalentStroke  4240 non-null   int64  \n",
      " 7   prevalentHyp     4240 non-null   int64  \n",
      " 8   diabetes         4240 non-null   int64  \n",
      " 9   totChol          4190 non-null   float64\n",
      " 10  sysBP            4240 non-null   float64\n",
      " 11  diaBP            4240 non-null   float64\n",
      " 12  BMI              4221 non-null   float64\n",
      " 13  heartRate        4239 non-null   float64\n",
      " 14  glucose          3852 non-null   float64\n",
      " 15  TenYearCHD       4240 non-null   int64  \n",
      "dtypes: float64(9), int64(7)\n",
      "memory usage: 530.1 KB\n"
     ]
    }
   ],
   "execution_count": 39
  },
  {
   "metadata": {
    "ExecuteTime": {
     "end_time": "2025-08-16T10:28:36.336165Z",
     "start_time": "2025-08-16T10:28:36.329667Z"
    }
   },
   "cell_type": "code",
   "source": [
    "df_nulls = df.isnull().sum().sort_values(ascending=False)\n",
    "print(df_nulls)"
   ],
   "id": "4db404f8fd45d7c4",
   "outputs": [
    {
     "name": "stdout",
     "output_type": "stream",
     "text": [
      "glucose            388\n",
      "education          105\n",
      "BPMeds              53\n",
      "totChol             50\n",
      "cigsPerDay          29\n",
      "BMI                 19\n",
      "heartRate            1\n",
      "male                 0\n",
      "age                  0\n",
      "currentSmoker        0\n",
      "prevalentStroke      0\n",
      "prevalentHyp         0\n",
      "diabetes             0\n",
      "sysBP                0\n",
      "diaBP                0\n",
      "TenYearCHD           0\n",
      "dtype: int64\n"
     ]
    }
   ],
   "execution_count": 40
  },
  {
   "metadata": {
    "ExecuteTime": {
     "end_time": "2025-08-16T10:28:36.391194Z",
     "start_time": "2025-08-16T10:28:36.381170Z"
    }
   },
   "cell_type": "code",
   "source": [
    "from sklearn.impute import SimpleImputer\n",
    "df.drop(columns=['education'], inplace = True, axis = 1) #useless\n",
    "\n",
    "imputer_glu = SimpleImputer(strategy='mean')\n",
    "df[['glucose']] = imputer_glu.fit_transform(df[['glucose']])\n",
    "\n",
    "df.dropna(inplace=True)\n",
    "df.isnull().sum().sort_values(ascending=False)\n"
   ],
   "id": "58f9b4d3e768a54",
   "outputs": [
    {
     "data": {
      "text/plain": [
       "male               0\n",
       "age                0\n",
       "currentSmoker      0\n",
       "cigsPerDay         0\n",
       "BPMeds             0\n",
       "prevalentStroke    0\n",
       "prevalentHyp       0\n",
       "diabetes           0\n",
       "totChol            0\n",
       "sysBP              0\n",
       "diaBP              0\n",
       "BMI                0\n",
       "heartRate          0\n",
       "glucose            0\n",
       "TenYearCHD         0\n",
       "dtype: int64"
      ]
     },
     "execution_count": 41,
     "metadata": {},
     "output_type": "execute_result"
    }
   ],
   "execution_count": 41
  },
  {
   "metadata": {
    "ExecuteTime": {
     "end_time": "2025-08-16T10:28:36.451414Z",
     "start_time": "2025-08-16T10:28:36.443408Z"
    }
   },
   "cell_type": "code",
   "source": "df.info()",
   "id": "ec0cabcc91a35415",
   "outputs": [
    {
     "name": "stdout",
     "output_type": "stream",
     "text": [
      "<class 'pandas.core.frame.DataFrame'>\n",
      "Index: 4090 entries, 0 to 4239\n",
      "Data columns (total 15 columns):\n",
      " #   Column           Non-Null Count  Dtype  \n",
      "---  ------           --------------  -----  \n",
      " 0   male             4090 non-null   int64  \n",
      " 1   age              4090 non-null   int64  \n",
      " 2   currentSmoker    4090 non-null   int64  \n",
      " 3   cigsPerDay       4090 non-null   float64\n",
      " 4   BPMeds           4090 non-null   float64\n",
      " 5   prevalentStroke  4090 non-null   int64  \n",
      " 6   prevalentHyp     4090 non-null   int64  \n",
      " 7   diabetes         4090 non-null   int64  \n",
      " 8   totChol          4090 non-null   float64\n",
      " 9   sysBP            4090 non-null   float64\n",
      " 10  diaBP            4090 non-null   float64\n",
      " 11  BMI              4090 non-null   float64\n",
      " 12  heartRate        4090 non-null   float64\n",
      " 13  glucose          4090 non-null   float64\n",
      " 14  TenYearCHD       4090 non-null   int64  \n",
      "dtypes: float64(8), int64(7)\n",
      "memory usage: 511.2 KB\n"
     ]
    }
   ],
   "execution_count": 42
  },
  {
   "metadata": {},
   "cell_type": "markdown",
   "source": "# Splitting the Dataset into Test and Train Sets ",
   "id": "867396498422064f"
  },
  {
   "metadata": {
    "ExecuteTime": {
     "end_time": "2025-08-16T10:28:36.684742Z",
     "start_time": "2025-08-16T10:28:36.676645Z"
    }
   },
   "cell_type": "code",
   "source": [
    "from sklearn.model_selection import train_test_split\n",
    "from sklearn.preprocessing import StandardScaler\n",
    "\n",
    "# Features & target\n",
    "X = df[['age', 'male', 'cigsPerDay', 'totChol', 'sysBP', 'glucose']].values\n",
    "y = df['TenYearCHD'].values\n",
    "\n",
    "# Split\n",
    "X_train, X_test, y_train, y_test = train_test_split(X, y, test_size=0.3, random_state=4)\n",
    "\n",
    "\n",
    "scaler = StandardScaler()\n",
    "X_train, X_test = scaler.fit_transform(X_train), scaler.transform(X_test)\n",
    "\n",
    "print('Train:', X_train.shape, y_train.shape)\n",
    "print('Test:', X_test.shape, y_test.shape)\n"
   ],
   "id": "c50736a5098f8ba5",
   "outputs": [
    {
     "name": "stdout",
     "output_type": "stream",
     "text": [
      "Train: (2863, 6) (2863,)\n",
      "Test: (1227, 6) (1227,)\n"
     ]
    }
   ],
   "execution_count": 43
  },
  {
   "metadata": {},
   "cell_type": "markdown",
   "source": [
    "# Visualization\n",
    "*Ten Year's CHD Record of all the patients available in the dataset*"
   ],
   "id": "a9e19c0ecdac2aae"
  },
  {
   "metadata": {
    "ExecuteTime": {
     "end_time": "2025-08-16T10:28:36.881749Z",
     "start_time": "2025-08-16T10:28:36.754747Z"
    }
   },
   "cell_type": "code",
   "source": [
    "plt.figure(figsize=(7, 5))\n",
    "sns.countplot(x='TenYearCHD', data=df,\n",
    "             palette=\"BuGn_r\", hue='TenYearCHD')\n",
    "plt.show()"
   ],
   "id": "730d5134026485fc",
   "outputs": [
    {
     "data": {
      "text/plain": [
       "<Figure size 700x500 with 1 Axes>"
      ],
      "image/png": "[encoded data removed]"
     },
     "metadata": {},
     "output_type": "display_data"
    }
   ],
   "execution_count": 44
  },
  {
   "metadata": {},
   "cell_type": "markdown",
   "source": "",
   "id": "cbbc10f8b56c0fa3"
  },
  {
   "metadata": {
    "ExecuteTime": {
     "end_time": "2025-08-16T10:28:37.036223Z",
     "start_time": "2025-08-16T10:28:36.900222Z"
    }
   },
   "cell_type": "code",
   "source": [
    "#Counting number of patients affected by CHD where (0= Not Affected; 1= Affected)\n",
    "laste = df['TenYearCHD'].plot()\n",
    "plt.show(laste)"
   ],
   "id": "d1eabd675fc60180",
   "outputs": [
    {
     "data": {
      "text/plain": [
       "<Figure size 640x480 with 1 Axes>"
      ],
      "image/png": "[encoded data removed]"
     },
     "metadata": {},
     "output_type": "display_data"
    }
   ],
   "execution_count": 45
  },
  {
   "metadata": {},
   "cell_type": "markdown",
   "source": "# Fitting Logistic Regression Model",
   "id": "f50f3af50a3c4445"
  },
  {
   "metadata": {
    "ExecuteTime": {
     "end_time": "2025-08-16T10:28:37.078124Z",
     "start_time": "2025-08-16T10:28:37.065971Z"
    }
   },
   "cell_type": "code",
   "source": [
    "from sklearn.linear_model import LogisticRegression\n",
    "logreg = LogisticRegression()\n",
    "logreg.fit(X_train, y_train)\n",
    "y_pred = logreg.predict(X_test)"
   ],
   "id": "c3d780f2d04a4d0a",
   "outputs": [],
   "execution_count": 46
  },
  {
   "metadata": {
    "ExecuteTime": {
     "end_time": "2025-08-16T10:28:37.119430Z",
     "start_time": "2025-08-16T10:28:37.112430Z"
    }
   },
   "cell_type": "code",
   "source": [
    "log_reg_acc = round(logreg.score(X_train,y_train), 2)\n",
    "print(f'\\nModel Accuracy: {log_reg_acc * 100:.2f} %')"
   ],
   "id": "6b567d1d8c1f24cd",
   "outputs": [
    {
     "name": "stdout",
     "output_type": "stream",
     "text": [
      "\n",
      "Model Accuracy: 85.00 %\n"
     ]
    }
   ],
   "execution_count": 47
  },
  {
   "metadata": {
    "ExecuteTime": {
     "end_time": "2025-08-16T10:33:30.570970Z",
     "start_time": "2025-08-16T10:33:30.478670Z"
    }
   },
   "cell_type": "code",
   "source": [
    "from sklearn.metrics import confusion_matrix, classification_report\n",
    "\n",
    "# Confusion matrix\n",
    "cm = confusion_matrix(y_test, y_pred)\n",
    "conf_matrix = pd.DataFrame(\n",
    "    cm, \n",
    "    columns=['Predicted:0', 'Predicted:1'], \n",
    "    index=['Actual:0', 'Actual:1']\n",
    ")\n",
    "\n",
    "# Plot\n",
    "plt.figure(figsize=(6, 4))\n",
    "sns.heatmap(conf_matrix, annot=True, fmt='d', cmap=\"Blues\", cbar=False, \n",
    "            annot_kws={\"size\":14, \"weight\":\"bold\"})\n",
    "plt.title(\"Confusion Matrix\", fontsize=16, weight='bold')\n",
    "plt.ylabel(\"Actual\", fontsize=12)\n",
    "plt.xlabel(\"Predicted\", fontsize=12)\n",
    "plt.xticks(rotation=0)\n",
    "plt.yticks(rotation=0)\n",
    "plt.tight_layout()\n",
    "plt.show()\n"
   ],
   "id": "8b5903f483272c8c",
   "outputs": [
    {
     "data": {
      "text/plain": [
       "<Figure size 600x400 with 1 Axes>"
      ],
      "image/png": "[encoded data removed]"
     },
     "metadata": {},
     "output_type": "display_data"
    }
   ],
   "execution_count": 49
  }
 ],
 "metadata": {
  "kernelspec": {
   "display_name": "Python 3",
   "language": "python",
   "name": "python3"
  },
  "language_info": {
   "codemirror_mode": {
    "name": "ipython",
    "version": 2
   },
   "file_extension": ".py",
   "mimetype": "text/x-python",
   "name": "python",
   "nbconvert_exporter": "python",
   "pygments_lexer": "ipython2",
   "version": "2.7.6"
  }
 },
 "nbformat": 4,
 "nbformat_minor": 5
}
